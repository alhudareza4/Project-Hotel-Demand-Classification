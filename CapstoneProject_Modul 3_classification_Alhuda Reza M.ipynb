{
 "cells": [
  {
   "cell_type": "markdown",
   "id": "baecdf73",
   "metadata": {},
   "source": [
    "# Hotel Demands Classification\n",
    "### Created By : Alhuda Reza Mahara"
   ]
  },
  {
   "cell_type": "markdown",
   "id": "4a105c23",
   "metadata": {},
   "source": [
    "## Business Problem Understanding"
   ]
  },
  {
   "cell_type": "markdown",
   "id": "10161b2f",
   "metadata": {},
   "source": [
    "**Context**\n",
    "\n",
    "Sebuah perusahaan yang bergerak di bidang perhotelan ingin mengetahui dan mengatasi permasalahan yang menyebabkan para konsumen melakukan pembatalan pesanan hotel.\n",
    "\n",
    "Target :\n",
    "\n",
    "0 : Konsumen tidak melakukan pembatalan pesanan hotel\n",
    "\n",
    "1 : Konsumen melakukan pembatalan pesanan hotel\n"
   ]
  },
  {
   "cell_type": "markdown",
   "id": "927efcb6",
   "metadata": {},
   "source": [
    "**Problem Statement :**\n",
    "\n",
    "Pembatalan pesanan hotel yang dilakukan oleh konsumen dapat menyebabkan opportunity lost yang diakibatkan karena kamar yang harusnya ditempati tapi tidak jadi ditempati oleh konsumen.\n",
    "\n",
    "**Goals :**\n",
    "\n",
    "Maka berdasarkan permasalahan tersebut, ingin memiliki kemampuan untuk memprediksi kemungkinan konsumen melakukan pembatalan pesanan hotel, sehingga perusahaan dapat memfokuskan sumber daya yang ada pada pesanan yang memiliki potensi yang lebih besar untuk tidak melakukan pembatalan pesanan dan tetap menjaga kepercayaan konsumen.\n",
    "\n",
    "dan juga, perusahaan ingin mengetahui apa yang membuat konsumen akan melakukan pembatalan pesanan hotel atau tidak, sehingga perusahaan dapat membuat rencana yang lebih baik dalam mengurangi pembatalan pesanan yang dilakukan oleh konsumen.\n",
    "\n",
    "**Analytic Approach :**\n",
    "\n",
    "Yang akan kita lakukan adalah melakukan analisis data untuk menemukan pola yang membedakan pesanan yang berpotensi dibatalkan oleh konsumen.\n",
    "\n",
    "kemudian kita akan membangun model klasifikasi yang akan membantu perusahaan perhotelan untuk dapat memprediksi probabilitas konsumen yang akan membatalkan pesanannya atau tidak."
   ]
  },
  {
   "cell_type": "markdown",
   "id": "c048a59a",
   "metadata": {},
   "source": [
    "**Metric Evaluation**"
   ]
  },
  {
   "cell_type": "markdown",
   "id": "e8f72b8e",
   "metadata": {},
   "source": [
    "<img src='matrix.jpg'>"
   ]
  },
  {
   "cell_type": "markdown",
   "id": "4c54abe0",
   "metadata": {},
   "source": [
    "Type 1 error : False Positive  \n",
    "Konsekuensi: Kehilangan kepercayaan konsumen\n",
    "\n",
    "Type 2 error : False Negative  \n",
    "Konsekuensi: potensi kehilangan konsumen potensial (Banyak Kamar Kosong)\n",
    "\n",
    "Berdasarkan konsekuensinya, maka sebisa mungkin yang akan kita lakukan adalah membuat model yang dapat mengurangi potensi kehilangan konsumen potensial, tetapi tanpa menimbulkan efek kehilangan kepercayaan konsumen. Jadi pada kasus kali ini kita akan mencoba menyeimbangkan hasil dari precision dan recallnya menggunakan matriks F1-Score dari kelas positive (is_canceled). Jadi nanti metric utama yang akan kita gunakan adalah F1-Score."
   ]
  },
  {
   "cell_type": "markdown",
   "id": "207f26a4",
   "metadata": {},
   "source": [
    "### Data Understanding"
   ]
  },
  {
   "cell_type": "markdown",
   "id": "a5657504",
   "metadata": {},
   "source": [
    "Dataset Source : https://drive.google.com/file/d/1eeXOEY5B_zfSNhWeDDqPWCo9hAyDRAbc/view?usp=sharing"
   ]
  },
  {
   "cell_type": "markdown",
   "id": "93c19f71",
   "metadata": {},
   "source": [
    "Note :\n",
    "\n",
    "   - Dataset Tidak Seimbang\n",
    "   - Sebagian data bersifat kategorikal\n",
    "   - Setiap baris data merepresentasikan informasi pesanan Hotel\n"
   ]
  },
  {
   "cell_type": "markdown",
   "id": "c211a311",
   "metadata": {},
   "source": [
    "### Attribute Information"
   ]
  },
  {
   "cell_type": "markdown",
   "id": "dd5bde17",
   "metadata": {},
   "source": [
    "### Attribute Information\n",
    "\n",
    "| Attribute | Data Type, Length | Description |\n",
    "| --- | --- | --- |\n",
    "| country | Text | Country Code |\n",
    "| market_segment | Text | Market segment designation. In categories, the term “TA” means “Travel Agents” and “TO” means “Tour Operators” |\n",
    "| previous_cancellations | Long | Number of previous bookings that were cancelled by the customer prior to the current booking |\n",
    "| booking_changes | long | Number of changes/amendments made to the booking from the moment the booking was entered on the PMS |\n",
    "| deposit_type | Text | Indication on if the customer made a deposit to guarantee the booking. This variable can assume three categories |\n",
    "| days_in_waiting_list | long | Number of days the booking was in the waiting list before it was confirmed to the customer |\n",
    "| customer_type | Text | Type of booking, assuming one of four categories |\n",
    "| reserved_room_type | Text | Code of room type reserved. Code is presented instead of designation for anonymity reasons. |\n",
    "| required_car_parking_spaces | Long | Number of car parking spaces required by the customer |\n",
    "| total_of_special_requests | long | Number of special requests made by the customer  |\n",
    "| is_canceled | long | Value indicating if the booking was canceled (1) or not (0) |\n"
   ]
  },
  {
   "cell_type": "code",
   "execution_count": 1,
   "id": "d0f2e9e1",
   "metadata": {},
   "outputs": [],
   "source": [
    "# Library\n",
    "\n",
    "import pandas as pd\n",
    "import numpy as np\n",
    "\n",
    "# Visualization\n",
    "import matplotlib.pyplot as plt\n",
    "import seaborn as sns\n",
    "import missingno\n",
    "from IPython.display import display\n",
    "\n",
    "# Feature Engineering\n",
    "from sklearn.pipeline import Pipeline\n",
    "from sklearn.impute import SimpleImputer\n",
    "from sklearn.preprocessing import OneHotEncoder, LabelEncoder, OrdinalEncoder\n",
    "from sklearn.compose import ColumnTransformer\n",
    "import category_encoders as ce\n",
    "from category_encoders import BinaryEncoder\n",
    "\n",
    "# Model Selection\n",
    "from sklearn.linear_model import LogisticRegression\n",
    "from sklearn.tree import DecisionTreeClassifier\n",
    "from sklearn.model_selection import GridSearchCV,StratifiedKFold,train_test_split, cross_val_score, RandomizedSearchCV\n",
    "from sklearn.metrics import classification_report, confusion_matrix\n",
    "from sklearn.neighbors import KNeighborsClassifier\n",
    "from sklearn.ensemble import RandomForestClassifier\n",
    "from xgboost import XGBClassifier\n",
    "import lightgbm as lgb\n",
    "from sklearn.ensemble import AdaBoostClassifier, GradientBoostingClassifier\n",
    "from sklearn.metrics import f1_score, accuracy_score, recall_score, precision_score\n",
    "from sklearn.metrics import roc_curve, roc_auc_score, plot_roc_curve, f1_score\n",
    "\n",
    "# Imbalance Dataset\n",
    "from imblearn.pipeline import Pipeline\n",
    "from imblearn.over_sampling import RandomOverSampler, SMOTE\n",
    "from imblearn.under_sampling import RandomUnderSampler, NearMiss\n",
    "from imblearn.combine import SMOTETomek\n",
    "\n",
    "# Ignore Warning\n",
    "import sys\n",
    "import warnings\n",
    "if not sys.warnoptions:\n",
    "    warnings.simplefilter(\"ignore\")\n",
    "\n",
    "# Set max columns\n",
    "pd.set_option('display.max_columns', None)\n",
    "\n",
    "import pickle"
   ]
  },
  {
   "cell_type": "code",
   "execution_count": 4,
   "id": "809ca764",
   "metadata": {},
   "outputs": [
    {
     "data": {
      "text/html": [
       "<div>\n",
       "<style scoped>\n",
       "    .dataframe tbody tr th:only-of-type {\n",
       "        vertical-align: middle;\n",
       "    }\n",
       "\n",
       "    .dataframe tbody tr th {\n",
       "        vertical-align: top;\n",
       "    }\n",
       "\n",
       "    .dataframe thead th {\n",
       "        text-align: right;\n",
       "    }\n",
       "</style>\n",
       "<table border=\"1\" class=\"dataframe\">\n",
       "  <thead>\n",
       "    <tr style=\"text-align: right;\">\n",
       "      <th></th>\n",
       "      <th>country</th>\n",
       "      <th>market_segment</th>\n",
       "      <th>previous_cancellations</th>\n",
       "      <th>booking_changes</th>\n",
       "      <th>deposit_type</th>\n",
       "      <th>days_in_waiting_list</th>\n",
       "      <th>customer_type</th>\n",
       "      <th>reserved_room_type</th>\n",
       "      <th>required_car_parking_spaces</th>\n",
       "      <th>total_of_special_requests</th>\n",
       "      <th>is_canceled</th>\n",
       "    </tr>\n",
       "  </thead>\n",
       "  <tbody>\n",
       "    <tr>\n",
       "      <th>0</th>\n",
       "      <td>IRL</td>\n",
       "      <td>Offline TA/TO</td>\n",
       "      <td>0</td>\n",
       "      <td>0</td>\n",
       "      <td>No Deposit</td>\n",
       "      <td>0</td>\n",
       "      <td>Transient-Party</td>\n",
       "      <td>A</td>\n",
       "      <td>0</td>\n",
       "      <td>0</td>\n",
       "      <td>0</td>\n",
       "    </tr>\n",
       "    <tr>\n",
       "      <th>1</th>\n",
       "      <td>FRA</td>\n",
       "      <td>Online TA</td>\n",
       "      <td>0</td>\n",
       "      <td>0</td>\n",
       "      <td>No Deposit</td>\n",
       "      <td>0</td>\n",
       "      <td>Transient</td>\n",
       "      <td>A</td>\n",
       "      <td>0</td>\n",
       "      <td>2</td>\n",
       "      <td>0</td>\n",
       "    </tr>\n",
       "    <tr>\n",
       "      <th>2</th>\n",
       "      <td>PRT</td>\n",
       "      <td>Online TA</td>\n",
       "      <td>0</td>\n",
       "      <td>1</td>\n",
       "      <td>No Deposit</td>\n",
       "      <td>0</td>\n",
       "      <td>Transient</td>\n",
       "      <td>A</td>\n",
       "      <td>0</td>\n",
       "      <td>2</td>\n",
       "      <td>0</td>\n",
       "    </tr>\n",
       "    <tr>\n",
       "      <th>3</th>\n",
       "      <td>NLD</td>\n",
       "      <td>Online TA</td>\n",
       "      <td>0</td>\n",
       "      <td>0</td>\n",
       "      <td>No Deposit</td>\n",
       "      <td>0</td>\n",
       "      <td>Transient</td>\n",
       "      <td>A</td>\n",
       "      <td>0</td>\n",
       "      <td>1</td>\n",
       "      <td>1</td>\n",
       "    </tr>\n",
       "    <tr>\n",
       "      <th>4</th>\n",
       "      <td>PRT</td>\n",
       "      <td>Online TA</td>\n",
       "      <td>0</td>\n",
       "      <td>2</td>\n",
       "      <td>No Deposit</td>\n",
       "      <td>0</td>\n",
       "      <td>Transient</td>\n",
       "      <td>A</td>\n",
       "      <td>0</td>\n",
       "      <td>2</td>\n",
       "      <td>0</td>\n",
       "    </tr>\n",
       "    <tr>\n",
       "      <th>...</th>\n",
       "      <td>...</td>\n",
       "      <td>...</td>\n",
       "      <td>...</td>\n",
       "      <td>...</td>\n",
       "      <td>...</td>\n",
       "      <td>...</td>\n",
       "      <td>...</td>\n",
       "      <td>...</td>\n",
       "      <td>...</td>\n",
       "      <td>...</td>\n",
       "      <td>...</td>\n",
       "    </tr>\n",
       "    <tr>\n",
       "      <th>83568</th>\n",
       "      <td>PRT</td>\n",
       "      <td>Online TA</td>\n",
       "      <td>0</td>\n",
       "      <td>0</td>\n",
       "      <td>No Deposit</td>\n",
       "      <td>0</td>\n",
       "      <td>Contract</td>\n",
       "      <td>A</td>\n",
       "      <td>0</td>\n",
       "      <td>3</td>\n",
       "      <td>1</td>\n",
       "    </tr>\n",
       "    <tr>\n",
       "      <th>83569</th>\n",
       "      <td>FRA</td>\n",
       "      <td>Online TA</td>\n",
       "      <td>0</td>\n",
       "      <td>0</td>\n",
       "      <td>No Deposit</td>\n",
       "      <td>0</td>\n",
       "      <td>Transient</td>\n",
       "      <td>D</td>\n",
       "      <td>0</td>\n",
       "      <td>2</td>\n",
       "      <td>0</td>\n",
       "    </tr>\n",
       "    <tr>\n",
       "      <th>83570</th>\n",
       "      <td>PRT</td>\n",
       "      <td>Online TA</td>\n",
       "      <td>0</td>\n",
       "      <td>1</td>\n",
       "      <td>No Deposit</td>\n",
       "      <td>0</td>\n",
       "      <td>Transient</td>\n",
       "      <td>D</td>\n",
       "      <td>0</td>\n",
       "      <td>3</td>\n",
       "      <td>0</td>\n",
       "    </tr>\n",
       "    <tr>\n",
       "      <th>83571</th>\n",
       "      <td>CN</td>\n",
       "      <td>Offline TA/TO</td>\n",
       "      <td>0</td>\n",
       "      <td>0</td>\n",
       "      <td>No Deposit</td>\n",
       "      <td>0</td>\n",
       "      <td>Transient-Party</td>\n",
       "      <td>A</td>\n",
       "      <td>0</td>\n",
       "      <td>0</td>\n",
       "      <td>0</td>\n",
       "    </tr>\n",
       "    <tr>\n",
       "      <th>83572</th>\n",
       "      <td>PRT</td>\n",
       "      <td>Groups</td>\n",
       "      <td>0</td>\n",
       "      <td>0</td>\n",
       "      <td>Non Refund</td>\n",
       "      <td>0</td>\n",
       "      <td>Transient</td>\n",
       "      <td>A</td>\n",
       "      <td>0</td>\n",
       "      <td>0</td>\n",
       "      <td>1</td>\n",
       "    </tr>\n",
       "  </tbody>\n",
       "</table>\n",
       "<p>83573 rows × 11 columns</p>\n",
       "</div>"
      ],
      "text/plain": [
       "      country market_segment  previous_cancellations  booking_changes  \\\n",
       "0         IRL  Offline TA/TO                       0                0   \n",
       "1         FRA      Online TA                       0                0   \n",
       "2         PRT      Online TA                       0                1   \n",
       "3         NLD      Online TA                       0                0   \n",
       "4         PRT      Online TA                       0                2   \n",
       "...       ...            ...                     ...              ...   \n",
       "83568     PRT      Online TA                       0                0   \n",
       "83569     FRA      Online TA                       0                0   \n",
       "83570     PRT      Online TA                       0                1   \n",
       "83571      CN  Offline TA/TO                       0                0   \n",
       "83572     PRT         Groups                       0                0   \n",
       "\n",
       "      deposit_type  days_in_waiting_list    customer_type reserved_room_type  \\\n",
       "0       No Deposit                     0  Transient-Party                  A   \n",
       "1       No Deposit                     0        Transient                  A   \n",
       "2       No Deposit                     0        Transient                  A   \n",
       "3       No Deposit                     0        Transient                  A   \n",
       "4       No Deposit                     0        Transient                  A   \n",
       "...            ...                   ...              ...                ...   \n",
       "83568   No Deposit                     0         Contract                  A   \n",
       "83569   No Deposit                     0        Transient                  D   \n",
       "83570   No Deposit                     0        Transient                  D   \n",
       "83571   No Deposit                     0  Transient-Party                  A   \n",
       "83572   Non Refund                     0        Transient                  A   \n",
       "\n",
       "       required_car_parking_spaces  total_of_special_requests  is_canceled  \n",
       "0                                0                          0            0  \n",
       "1                                0                          2            0  \n",
       "2                                0                          2            0  \n",
       "3                                0                          1            1  \n",
       "4                                0                          2            0  \n",
       "...                            ...                        ...          ...  \n",
       "83568                            0                          3            1  \n",
       "83569                            0                          2            0  \n",
       "83570                            0                          3            0  \n",
       "83571                            0                          0            0  \n",
       "83572                            0                          0            1  \n",
       "\n",
       "[83573 rows x 11 columns]"
      ]
     },
     "execution_count": 4,
     "metadata": {},
     "output_type": "execute_result"
    }
   ],
   "source": [
    "df = pd.read_csv('data_hotel_booking_demand.csv')\n",
    "df"
   ]
  },
  {
   "cell_type": "code",
   "execution_count": 3,
   "id": "7d1fb7ad",
   "metadata": {},
   "outputs": [
    {
     "name": "stdout",
     "output_type": "stream",
     "text": [
      "<class 'pandas.core.frame.DataFrame'>\n",
      "RangeIndex: 83573 entries, 0 to 83572\n",
      "Data columns (total 11 columns):\n",
      " #   Column                       Non-Null Count  Dtype \n",
      "---  ------                       --------------  ----- \n",
      " 0   country                      83222 non-null  object\n",
      " 1   market_segment               83573 non-null  object\n",
      " 2   previous_cancellations       83573 non-null  int64 \n",
      " 3   booking_changes              83573 non-null  int64 \n",
      " 4   deposit_type                 83573 non-null  object\n",
      " 5   days_in_waiting_list         83573 non-null  int64 \n",
      " 6   customer_type                83573 non-null  object\n",
      " 7   reserved_room_type           83573 non-null  object\n",
      " 8   required_car_parking_spaces  83573 non-null  int64 \n",
      " 9   total_of_special_requests    83573 non-null  int64 \n",
      " 10  is_canceled                  83573 non-null  int64 \n",
      "dtypes: int64(6), object(5)\n",
      "memory usage: 7.0+ MB\n"
     ]
    }
   ],
   "source": [
    "df.info()"
   ]
  },
  {
   "cell_type": "markdown",
   "id": "76a5345b",
   "metadata": {},
   "source": [
    "## Data Cleaning\n",
    "\n",
    "Dari data yang akan digunakan tidak terdapat data yang mengalami kesalahan format dan juga kita tidak memeriksa data yang memiliki duplikat karena data yang digunakan tidak memiliki kode unik yang membedakan satu pesanan dengan pesanan lainnya, Terdapat data yang hilang/kosong di kolom country, maka kita akan menghandle data yang hilang/kosong  dan membuatnya menjadi siap pakai untuk melakukan analisa terhadap masalahnya dan juga pembuatan model machine learningnya."
   ]
  },
  {
   "cell_type": "markdown",
   "id": "ca4466be",
   "metadata": {},
   "source": [
    "### Missing Values"
   ]
  },
  {
   "cell_type": "code",
   "execution_count": 4,
   "id": "991fef98",
   "metadata": {},
   "outputs": [
    {
     "data": {
      "text/html": [
       "<div>\n",
       "<style scoped>\n",
       "    .dataframe tbody tr th:only-of-type {\n",
       "        vertical-align: middle;\n",
       "    }\n",
       "\n",
       "    .dataframe tbody tr th {\n",
       "        vertical-align: top;\n",
       "    }\n",
       "\n",
       "    .dataframe thead th {\n",
       "        text-align: right;\n",
       "    }\n",
       "</style>\n",
       "<table border=\"1\" class=\"dataframe\">\n",
       "  <thead>\n",
       "    <tr style=\"text-align: right;\">\n",
       "      <th></th>\n",
       "      <th>dataFeatures</th>\n",
       "      <th>dataType</th>\n",
       "      <th>null</th>\n",
       "      <th>nullPct</th>\n",
       "      <th>unique</th>\n",
       "      <th>uniqueSample</th>\n",
       "    </tr>\n",
       "  </thead>\n",
       "  <tbody>\n",
       "    <tr>\n",
       "      <th>0</th>\n",
       "      <td>country</td>\n",
       "      <td>object</td>\n",
       "      <td>351</td>\n",
       "      <td>0.42</td>\n",
       "      <td>162</td>\n",
       "      <td>[THA, UGA]</td>\n",
       "    </tr>\n",
       "    <tr>\n",
       "      <th>1</th>\n",
       "      <td>market_segment</td>\n",
       "      <td>object</td>\n",
       "      <td>0</td>\n",
       "      <td>0.00</td>\n",
       "      <td>8</td>\n",
       "      <td>[Undefined, Complementary]</td>\n",
       "    </tr>\n",
       "    <tr>\n",
       "      <th>2</th>\n",
       "      <td>previous_cancellations</td>\n",
       "      <td>int64</td>\n",
       "      <td>0</td>\n",
       "      <td>0.00</td>\n",
       "      <td>15</td>\n",
       "      <td>[11, 2]</td>\n",
       "    </tr>\n",
       "    <tr>\n",
       "      <th>3</th>\n",
       "      <td>booking_changes</td>\n",
       "      <td>int64</td>\n",
       "      <td>0</td>\n",
       "      <td>0.00</td>\n",
       "      <td>19</td>\n",
       "      <td>[3, 9]</td>\n",
       "    </tr>\n",
       "    <tr>\n",
       "      <th>4</th>\n",
       "      <td>deposit_type</td>\n",
       "      <td>object</td>\n",
       "      <td>0</td>\n",
       "      <td>0.00</td>\n",
       "      <td>3</td>\n",
       "      <td>[Non Refund, Refundable]</td>\n",
       "    </tr>\n",
       "    <tr>\n",
       "      <th>5</th>\n",
       "      <td>days_in_waiting_list</td>\n",
       "      <td>int64</td>\n",
       "      <td>0</td>\n",
       "      <td>0.00</td>\n",
       "      <td>115</td>\n",
       "      <td>[174, 2]</td>\n",
       "    </tr>\n",
       "    <tr>\n",
       "      <th>6</th>\n",
       "      <td>customer_type</td>\n",
       "      <td>object</td>\n",
       "      <td>0</td>\n",
       "      <td>0.00</td>\n",
       "      <td>4</td>\n",
       "      <td>[Group, Contract]</td>\n",
       "    </tr>\n",
       "    <tr>\n",
       "      <th>7</th>\n",
       "      <td>reserved_room_type</td>\n",
       "      <td>object</td>\n",
       "      <td>0</td>\n",
       "      <td>0.00</td>\n",
       "      <td>10</td>\n",
       "      <td>[P, E]</td>\n",
       "    </tr>\n",
       "    <tr>\n",
       "      <th>8</th>\n",
       "      <td>required_car_parking_spaces</td>\n",
       "      <td>int64</td>\n",
       "      <td>0</td>\n",
       "      <td>0.00</td>\n",
       "      <td>5</td>\n",
       "      <td>[0, 8]</td>\n",
       "    </tr>\n",
       "    <tr>\n",
       "      <th>9</th>\n",
       "      <td>total_of_special_requests</td>\n",
       "      <td>int64</td>\n",
       "      <td>0</td>\n",
       "      <td>0.00</td>\n",
       "      <td>6</td>\n",
       "      <td>[5, 1]</td>\n",
       "    </tr>\n",
       "    <tr>\n",
       "      <th>10</th>\n",
       "      <td>is_canceled</td>\n",
       "      <td>int64</td>\n",
       "      <td>0</td>\n",
       "      <td>0.00</td>\n",
       "      <td>2</td>\n",
       "      <td>[1, 0]</td>\n",
       "    </tr>\n",
       "  </tbody>\n",
       "</table>\n",
       "</div>"
      ],
      "text/plain": [
       "                   dataFeatures dataType  null  nullPct  unique  \\\n",
       "0                       country   object   351     0.42     162   \n",
       "1                market_segment   object     0     0.00       8   \n",
       "2        previous_cancellations    int64     0     0.00      15   \n",
       "3               booking_changes    int64     0     0.00      19   \n",
       "4                  deposit_type   object     0     0.00       3   \n",
       "5          days_in_waiting_list    int64     0     0.00     115   \n",
       "6                 customer_type   object     0     0.00       4   \n",
       "7            reserved_room_type   object     0     0.00      10   \n",
       "8   required_car_parking_spaces    int64     0     0.00       5   \n",
       "9     total_of_special_requests    int64     0     0.00       6   \n",
       "10                  is_canceled    int64     0     0.00       2   \n",
       "\n",
       "                  uniqueSample  \n",
       "0                   [THA, UGA]  \n",
       "1   [Undefined, Complementary]  \n",
       "2                      [11, 2]  \n",
       "3                       [3, 9]  \n",
       "4     [Non Refund, Refundable]  \n",
       "5                     [174, 2]  \n",
       "6            [Group, Contract]  \n",
       "7                       [P, E]  \n",
       "8                       [0, 8]  \n",
       "9                       [5, 1]  \n",
       "10                      [1, 0]  "
      ]
     },
     "execution_count": 4,
     "metadata": {},
     "output_type": "execute_result"
    }
   ],
   "source": [
    "listItem = []\n",
    "for col in df.columns :\n",
    "    listItem.append([col, df[col].dtype, df[col].isna().sum(), round((df[col].isna().sum()/len(df[col])) * 100,2),\n",
    "                    df[col].nunique(), list(df[col].drop_duplicates().sample(2).values)]);\n",
    "\n",
    "dfDesc = pd.DataFrame(columns=['dataFeatures', 'dataType', 'null', 'nullPct', 'unique', 'uniqueSample'],\n",
    "                     data=listItem)\n",
    "dfDesc"
   ]
  },
  {
   "cell_type": "markdown",
   "id": "16a914bd",
   "metadata": {},
   "source": [
    "Dapat dilihat bahwa pada diatas bahwa format dari setiap kolom sudah benar, walaupun begitu terdapat kolom yang memiliki missing value."
   ]
  },
  {
   "cell_type": "code",
   "execution_count": 5,
   "id": "d4970220",
   "metadata": {},
   "outputs": [
    {
     "data": {
      "text/plain": [
       "country                        351\n",
       "market_segment                   0\n",
       "previous_cancellations           0\n",
       "booking_changes                  0\n",
       "deposit_type                     0\n",
       "days_in_waiting_list             0\n",
       "customer_type                    0\n",
       "reserved_room_type               0\n",
       "required_car_parking_spaces      0\n",
       "total_of_special_requests        0\n",
       "is_canceled                      0\n",
       "dtype: int64"
      ]
     },
     "execution_count": 5,
     "metadata": {},
     "output_type": "execute_result"
    }
   ],
   "source": [
    "df.isna().sum()"
   ]
  },
  {
   "cell_type": "code",
   "execution_count": 6,
   "id": "90023934",
   "metadata": {},
   "outputs": [
    {
     "data": {
      "text/plain": [
       "<AxesSubplot:>"
      ]
     },
     "execution_count": 6,
     "metadata": {},
     "output_type": "execute_result"
    },
    {
     "data": {
      "image/png": "[encoded data removed]",
      "text/plain": [
       "<Figure size 1800x720 with 2 Axes>"
      ]
     },
     "metadata": {
      "needs_background": "light"
     },
     "output_type": "display_data"
    }
   ],
   "source": [
    "missingno.matrix(df)"
   ]
  },
  {
   "cell_type": "markdown",
   "id": "be02f3b2",
   "metadata": {},
   "source": [
    "Dapat dilihat bahwa missing value/data yang hilang pada kolom country memiliki pola yang acak"
   ]
  },
  {
   "cell_type": "markdown",
   "id": "a1b67cb0",
   "metadata": {},
   "source": [
    "**Missing Value Handling**\n",
    "\n",
    "Karena data bersifat kategorikal maka kita akan menggunakan modus untuk mengisi missing value."
   ]
  },
  {
   "cell_type": "code",
   "execution_count": 7,
   "id": "a037e866",
   "metadata": {},
   "outputs": [
    {
     "data": {
      "text/html": [
       "<div>\n",
       "<style scoped>\n",
       "    .dataframe tbody tr th:only-of-type {\n",
       "        vertical-align: middle;\n",
       "    }\n",
       "\n",
       "    .dataframe tbody tr th {\n",
       "        vertical-align: top;\n",
       "    }\n",
       "\n",
       "    .dataframe thead th {\n",
       "        text-align: right;\n",
       "    }\n",
       "</style>\n",
       "<table border=\"1\" class=\"dataframe\">\n",
       "  <thead>\n",
       "    <tr style=\"text-align: right;\">\n",
       "      <th></th>\n",
       "      <th>country</th>\n",
       "      <th>market_segment</th>\n",
       "      <th>previous_cancellations</th>\n",
       "      <th>booking_changes</th>\n",
       "      <th>deposit_type</th>\n",
       "      <th>days_in_waiting_list</th>\n",
       "      <th>customer_type</th>\n",
       "      <th>reserved_room_type</th>\n",
       "      <th>required_car_parking_spaces</th>\n",
       "      <th>total_of_special_requests</th>\n",
       "      <th>is_canceled</th>\n",
       "    </tr>\n",
       "  </thead>\n",
       "  <tbody>\n",
       "    <tr>\n",
       "      <th>0</th>\n",
       "      <td>IRL</td>\n",
       "      <td>Offline TA/TO</td>\n",
       "      <td>0</td>\n",
       "      <td>0</td>\n",
       "      <td>No Deposit</td>\n",
       "      <td>0</td>\n",
       "      <td>Transient-Party</td>\n",
       "      <td>A</td>\n",
       "      <td>0</td>\n",
       "      <td>0</td>\n",
       "      <td>0</td>\n",
       "    </tr>\n",
       "    <tr>\n",
       "      <th>1</th>\n",
       "      <td>FRA</td>\n",
       "      <td>Online TA</td>\n",
       "      <td>0</td>\n",
       "      <td>0</td>\n",
       "      <td>No Deposit</td>\n",
       "      <td>0</td>\n",
       "      <td>Transient</td>\n",
       "      <td>A</td>\n",
       "      <td>0</td>\n",
       "      <td>2</td>\n",
       "      <td>0</td>\n",
       "    </tr>\n",
       "    <tr>\n",
       "      <th>2</th>\n",
       "      <td>PRT</td>\n",
       "      <td>Online TA</td>\n",
       "      <td>0</td>\n",
       "      <td>1</td>\n",
       "      <td>No Deposit</td>\n",
       "      <td>0</td>\n",
       "      <td>Transient</td>\n",
       "      <td>A</td>\n",
       "      <td>0</td>\n",
       "      <td>2</td>\n",
       "      <td>0</td>\n",
       "    </tr>\n",
       "    <tr>\n",
       "      <th>3</th>\n",
       "      <td>NLD</td>\n",
       "      <td>Online TA</td>\n",
       "      <td>0</td>\n",
       "      <td>0</td>\n",
       "      <td>No Deposit</td>\n",
       "      <td>0</td>\n",
       "      <td>Transient</td>\n",
       "      <td>A</td>\n",
       "      <td>0</td>\n",
       "      <td>1</td>\n",
       "      <td>1</td>\n",
       "    </tr>\n",
       "    <tr>\n",
       "      <th>4</th>\n",
       "      <td>PRT</td>\n",
       "      <td>Online TA</td>\n",
       "      <td>0</td>\n",
       "      <td>2</td>\n",
       "      <td>No Deposit</td>\n",
       "      <td>0</td>\n",
       "      <td>Transient</td>\n",
       "      <td>A</td>\n",
       "      <td>0</td>\n",
       "      <td>2</td>\n",
       "      <td>0</td>\n",
       "    </tr>\n",
       "    <tr>\n",
       "      <th>...</th>\n",
       "      <td>...</td>\n",
       "      <td>...</td>\n",
       "      <td>...</td>\n",
       "      <td>...</td>\n",
       "      <td>...</td>\n",
       "      <td>...</td>\n",
       "      <td>...</td>\n",
       "      <td>...</td>\n",
       "      <td>...</td>\n",
       "      <td>...</td>\n",
       "      <td>...</td>\n",
       "    </tr>\n",
       "    <tr>\n",
       "      <th>83568</th>\n",
       "      <td>PRT</td>\n",
       "      <td>Online TA</td>\n",
       "      <td>0</td>\n",
       "      <td>0</td>\n",
       "      <td>No Deposit</td>\n",
       "      <td>0</td>\n",
       "      <td>Contract</td>\n",
       "      <td>A</td>\n",
       "      <td>0</td>\n",
       "      <td>3</td>\n",
       "      <td>1</td>\n",
       "    </tr>\n",
       "    <tr>\n",
       "      <th>83569</th>\n",
       "      <td>FRA</td>\n",
       "      <td>Online TA</td>\n",
       "      <td>0</td>\n",
       "      <td>0</td>\n",
       "      <td>No Deposit</td>\n",
       "      <td>0</td>\n",
       "      <td>Transient</td>\n",
       "      <td>D</td>\n",
       "      <td>0</td>\n",
       "      <td>2</td>\n",
       "      <td>0</td>\n",
       "    </tr>\n",
       "    <tr>\n",
       "      <th>83570</th>\n",
       "      <td>PRT</td>\n",
       "      <td>Online TA</td>\n",
       "      <td>0</td>\n",
       "      <td>1</td>\n",
       "      <td>No Deposit</td>\n",
       "      <td>0</td>\n",
       "      <td>Transient</td>\n",
       "      <td>D</td>\n",
       "      <td>0</td>\n",
       "      <td>3</td>\n",
       "      <td>0</td>\n",
       "    </tr>\n",
       "    <tr>\n",
       "      <th>83571</th>\n",
       "      <td>CN</td>\n",
       "      <td>Offline TA/TO</td>\n",
       "      <td>0</td>\n",
       "      <td>0</td>\n",
       "      <td>No Deposit</td>\n",
       "      <td>0</td>\n",
       "      <td>Transient-Party</td>\n",
       "      <td>A</td>\n",
       "      <td>0</td>\n",
       "      <td>0</td>\n",
       "      <td>0</td>\n",
       "    </tr>\n",
       "    <tr>\n",
       "      <th>83572</th>\n",
       "      <td>PRT</td>\n",
       "      <td>Groups</td>\n",
       "      <td>0</td>\n",
       "      <td>0</td>\n",
       "      <td>Non Refund</td>\n",
       "      <td>0</td>\n",
       "      <td>Transient</td>\n",
       "      <td>A</td>\n",
       "      <td>0</td>\n",
       "      <td>0</td>\n",
       "      <td>1</td>\n",
       "    </tr>\n",
       "  </tbody>\n",
       "</table>\n",
       "<p>83573 rows × 11 columns</p>\n",
       "</div>"
      ],
      "text/plain": [
       "      country market_segment  previous_cancellations  booking_changes  \\\n",
       "0         IRL  Offline TA/TO                       0                0   \n",
       "1         FRA      Online TA                       0                0   \n",
       "2         PRT      Online TA                       0                1   \n",
       "3         NLD      Online TA                       0                0   \n",
       "4         PRT      Online TA                       0                2   \n",
       "...       ...            ...                     ...              ...   \n",
       "83568     PRT      Online TA                       0                0   \n",
       "83569     FRA      Online TA                       0                0   \n",
       "83570     PRT      Online TA                       0                1   \n",
       "83571      CN  Offline TA/TO                       0                0   \n",
       "83572     PRT         Groups                       0                0   \n",
       "\n",
       "      deposit_type  days_in_waiting_list    customer_type reserved_room_type  \\\n",
       "0       No Deposit                     0  Transient-Party                  A   \n",
       "1       No Deposit                     0        Transient                  A   \n",
       "2       No Deposit                     0        Transient                  A   \n",
       "3       No Deposit                     0        Transient                  A   \n",
       "4       No Deposit                     0        Transient                  A   \n",
       "...            ...                   ...              ...                ...   \n",
       "83568   No Deposit                     0         Contract                  A   \n",
       "83569   No Deposit                     0        Transient                  D   \n",
       "83570   No Deposit                     0        Transient                  D   \n",
       "83571   No Deposit                     0  Transient-Party                  A   \n",
       "83572   Non Refund                     0        Transient                  A   \n",
       "\n",
       "       required_car_parking_spaces  total_of_special_requests  is_canceled  \n",
       "0                                0                          0            0  \n",
       "1                                0                          2            0  \n",
       "2                                0                          2            0  \n",
       "3                                0                          1            1  \n",
       "4                                0                          2            0  \n",
       "...                            ...                        ...          ...  \n",
       "83568                            0                          3            1  \n",
       "83569                            0                          2            0  \n",
       "83570                            0                          3            0  \n",
       "83571                            0                          0            0  \n",
       "83572                            0                          0            1  \n",
       "\n",
       "[83573 rows x 11 columns]"
      ]
     },
     "execution_count": 7,
     "metadata": {},
     "output_type": "execute_result"
    }
   ],
   "source": [
    "eda_hotel = df.copy()\n",
    "eda_hotel"
   ]
  },
  {
   "cell_type": "code",
   "execution_count": 8,
   "id": "4991c8d5",
   "metadata": {},
   "outputs": [],
   "source": [
    "# Missing value handling\n",
    "mode_imputer = SimpleImputer(strategy='most_frequent')\n",
    "eda_hotel['country'] = mode_imputer.fit_transform(eda_hotel[['country']])"
   ]
  },
  {
   "cell_type": "markdown",
   "id": "69053777",
   "metadata": {},
   "source": [
    "Lalu kita mengecek ulang data yang sudah di Impute."
   ]
  },
  {
   "cell_type": "code",
   "execution_count": 9,
   "id": "8b56e3ad",
   "metadata": {},
   "outputs": [
    {
     "data": {
      "text/html": [
       "<div>\n",
       "<style scoped>\n",
       "    .dataframe tbody tr th:only-of-type {\n",
       "        vertical-align: middle;\n",
       "    }\n",
       "\n",
       "    .dataframe tbody tr th {\n",
       "        vertical-align: top;\n",
       "    }\n",
       "\n",
       "    .dataframe thead th {\n",
       "        text-align: right;\n",
       "    }\n",
       "</style>\n",
       "<table border=\"1\" class=\"dataframe\">\n",
       "  <thead>\n",
       "    <tr style=\"text-align: right;\">\n",
       "      <th></th>\n",
       "      <th>dataFeatures</th>\n",
       "      <th>dataType</th>\n",
       "      <th>null</th>\n",
       "      <th>nullPct</th>\n",
       "      <th>unique</th>\n",
       "      <th>uniqueSample</th>\n",
       "    </tr>\n",
       "  </thead>\n",
       "  <tbody>\n",
       "    <tr>\n",
       "      <th>0</th>\n",
       "      <td>country</td>\n",
       "      <td>object</td>\n",
       "      <td>0</td>\n",
       "      <td>0.0</td>\n",
       "      <td>162</td>\n",
       "      <td>[ETH, CRI]</td>\n",
       "    </tr>\n",
       "    <tr>\n",
       "      <th>1</th>\n",
       "      <td>market_segment</td>\n",
       "      <td>object</td>\n",
       "      <td>0</td>\n",
       "      <td>0.0</td>\n",
       "      <td>8</td>\n",
       "      <td>[Offline TA/TO, Complementary]</td>\n",
       "    </tr>\n",
       "    <tr>\n",
       "      <th>2</th>\n",
       "      <td>previous_cancellations</td>\n",
       "      <td>int64</td>\n",
       "      <td>0</td>\n",
       "      <td>0.0</td>\n",
       "      <td>15</td>\n",
       "      <td>[1, 2]</td>\n",
       "    </tr>\n",
       "    <tr>\n",
       "      <th>3</th>\n",
       "      <td>booking_changes</td>\n",
       "      <td>int64</td>\n",
       "      <td>0</td>\n",
       "      <td>0.0</td>\n",
       "      <td>19</td>\n",
       "      <td>[14, 12]</td>\n",
       "    </tr>\n",
       "    <tr>\n",
       "      <th>4</th>\n",
       "      <td>deposit_type</td>\n",
       "      <td>object</td>\n",
       "      <td>0</td>\n",
       "      <td>0.0</td>\n",
       "      <td>3</td>\n",
       "      <td>[Non Refund, Refundable]</td>\n",
       "    </tr>\n",
       "    <tr>\n",
       "      <th>5</th>\n",
       "      <td>days_in_waiting_list</td>\n",
       "      <td>int64</td>\n",
       "      <td>0</td>\n",
       "      <td>0.0</td>\n",
       "      <td>115</td>\n",
       "      <td>[40, 31]</td>\n",
       "    </tr>\n",
       "    <tr>\n",
       "      <th>6</th>\n",
       "      <td>customer_type</td>\n",
       "      <td>object</td>\n",
       "      <td>0</td>\n",
       "      <td>0.0</td>\n",
       "      <td>4</td>\n",
       "      <td>[Transient-Party, Transient]</td>\n",
       "    </tr>\n",
       "    <tr>\n",
       "      <th>7</th>\n",
       "      <td>reserved_room_type</td>\n",
       "      <td>object</td>\n",
       "      <td>0</td>\n",
       "      <td>0.0</td>\n",
       "      <td>10</td>\n",
       "      <td>[A, L]</td>\n",
       "    </tr>\n",
       "    <tr>\n",
       "      <th>8</th>\n",
       "      <td>required_car_parking_spaces</td>\n",
       "      <td>int64</td>\n",
       "      <td>0</td>\n",
       "      <td>0.0</td>\n",
       "      <td>5</td>\n",
       "      <td>[3, 2]</td>\n",
       "    </tr>\n",
       "    <tr>\n",
       "      <th>9</th>\n",
       "      <td>total_of_special_requests</td>\n",
       "      <td>int64</td>\n",
       "      <td>0</td>\n",
       "      <td>0.0</td>\n",
       "      <td>6</td>\n",
       "      <td>[0, 1]</td>\n",
       "    </tr>\n",
       "    <tr>\n",
       "      <th>10</th>\n",
       "      <td>is_canceled</td>\n",
       "      <td>int64</td>\n",
       "      <td>0</td>\n",
       "      <td>0.0</td>\n",
       "      <td>2</td>\n",
       "      <td>[1, 0]</td>\n",
       "    </tr>\n",
       "  </tbody>\n",
       "</table>\n",
       "</div>"
      ],
      "text/plain": [
       "                   dataFeatures dataType  null  nullPct  unique  \\\n",
       "0                       country   object     0      0.0     162   \n",
       "1                market_segment   object     0      0.0       8   \n",
       "2        previous_cancellations    int64     0      0.0      15   \n",
       "3               booking_changes    int64     0      0.0      19   \n",
       "4                  deposit_type   object     0      0.0       3   \n",
       "5          days_in_waiting_list    int64     0      0.0     115   \n",
       "6                 customer_type   object     0      0.0       4   \n",
       "7            reserved_room_type   object     0      0.0      10   \n",
       "8   required_car_parking_spaces    int64     0      0.0       5   \n",
       "9     total_of_special_requests    int64     0      0.0       6   \n",
       "10                  is_canceled    int64     0      0.0       2   \n",
       "\n",
       "                      uniqueSample  \n",
       "0                       [ETH, CRI]  \n",
       "1   [Offline TA/TO, Complementary]  \n",
       "2                           [1, 2]  \n",
       "3                         [14, 12]  \n",
       "4         [Non Refund, Refundable]  \n",
       "5                         [40, 31]  \n",
       "6     [Transient-Party, Transient]  \n",
       "7                           [A, L]  \n",
       "8                           [3, 2]  \n",
       "9                           [0, 1]  \n",
       "10                          [1, 0]  "
      ]
     },
     "execution_count": 9,
     "metadata": {},
     "output_type": "execute_result"
    }
   ],
   "source": [
    "listItem = []\n",
    "for col in eda_hotel.columns :\n",
    "    listItem.append([col, eda_hotel[col].dtype, eda_hotel[col].isna().sum(), round((eda_hotel[col].isna().sum()/len(eda_hotel[col])) * 100,2),\n",
    "                    eda_hotel[col].nunique(), list(eda_hotel[col].drop_duplicates().sample(2).values)]);\n",
    "\n",
    "dfDesc = pd.DataFrame(columns=['dataFeatures', 'dataType', 'null', 'nullPct', 'unique', 'uniqueSample'],\n",
    "                     data=listItem)\n",
    "dfDesc"
   ]
  },
  {
   "cell_type": "markdown",
   "id": "5193c021",
   "metadata": {},
   "source": [
    "## Data Analysis"
   ]
  },
  {
   "cell_type": "code",
   "execution_count": 10,
   "id": "ec22ccc7",
   "metadata": {},
   "outputs": [
    {
     "data": {
      "text/plain": [
       "Text(0.5, 1.0, 'Top Ten Negara Pemesan Hotel')"
      ]
     },
     "execution_count": 10,
     "metadata": {},
     "output_type": "execute_result"
    },
    {
     "data": {
      "image/png": "[encoded data removed]",
      "text/plain": [
       "<Figure size 576x432 with 1 Axes>"
      ]
     },
     "metadata": {
      "needs_background": "light"
     },
     "output_type": "display_data"
    }
   ],
   "source": [
    "# Top ten Negara asal pemesan Hotel\n",
    "plt.figure(figsize=(8,6))\n",
    "eda_hotel['country'].value_counts().head(10).plot(kind='bar')\n",
    "plt.title('Top Ten Negara Pemesan Hotel', size=15)"
   ]
  },
  {
   "cell_type": "markdown",
   "id": "98b54413",
   "metadata": {},
   "source": [
    "Dari grafik diatas menunjukan bahwa Portugal dengan code PRT merupakan negara terbanyak yang melakukan pesanan hotel disusul dengan Inggris dengan Code GBR. mayoritas pemesan dari negara Portugal ini bisa mengindikasikan bahwa data pesanan hotel yang kita gunakan adalah data pesanan hotel dalam negeri negara Portugal, hal ini dapat disimpulkan pesanan dari Negara Portugal Mencakup 3 kali lipat dari seluruh pesanan hal ini merupakan pesanan dari penduduk Portugal itu sendiri."
   ]
  },
  {
   "cell_type": "code",
   "execution_count": 11,
   "id": "a1386dc6",
   "metadata": {},
   "outputs": [
    {
     "data": {
      "text/plain": [
       "Text(0.5, 1.0, 'Data Cancel berdasarkan tipe deposit')"
      ]
     },
     "execution_count": 11,
     "metadata": {},
     "output_type": "execute_result"
    },
    {
     "data": {
      "image/png": "[encoded data removed]",
      "text/plain": [
       "<Figure size 576x432 with 1 Axes>"
      ]
     },
     "metadata": {
      "needs_background": "light"
     },
     "output_type": "display_data"
    }
   ],
   "source": [
    "# Data Cancel berdasarkan tipe deposit\n",
    "plt.figure(figsize=(8,6))\n",
    "sns.countplot(x='is_canceled', hue='deposit_type', data=eda_hotel)\n",
    "plt.title('Data Cancel berdasarkan tipe deposit', size=15)"
   ]
  },
  {
   "cell_type": "markdown",
   "id": "317a6ae0",
   "metadata": {},
   "source": [
    "Dari Grafik diatas dapat dilihat bahwa konsumen yang memesan kamar dengan deposit_type No deposit memiliki jumlah pesanan yang tidak dibatalkan paling tinggi begitu juga dengan pesanan yang dibatalkan. hal ini mengindikasikan bahwa deposit_type ini tidak mempengaruhi konsumen untuk melakukan pembatalan pesanan.\n",
    "sedangkan kamar dengan deposit_type Refundable memiliki jumlah pembatalan yang sangat kecil dan jumlah yang tidak melakukan pembatalan relatif lebih besar. \n",
    "sedangkan kamar dengan deposit_type Non Refund memiliki jumlah pembatalan yang relatif sangat besar apabila dibandingkan dengan jumlah yang tidak melakukan pembatalan. hal ini mengindikasikan hubungan yang cukup kuat antara konsumen yang ingin melakukan pembatalan dengan pemilihan hotel dengan deposit_type Non Refundable. untuk pembuktian lebih lanjut akan kita periksa difeature importances dari model."
   ]
  },
  {
   "cell_type": "code",
   "execution_count": 12,
   "id": "eae1e15f",
   "metadata": {},
   "outputs": [
    {
     "data": {
      "text/plain": [
       "Text(0.5, 1.0, 'Hubungan Tipe Konsumen dengan jumlah pembatalan')"
      ]
     },
     "execution_count": 12,
     "metadata": {},
     "output_type": "execute_result"
    },
    {
     "data": {
      "image/png": "[encoded data removed]",
      "text/plain": [
       "<Figure size 576x432 with 1 Axes>"
      ]
     },
     "metadata": {
      "needs_background": "light"
     },
     "output_type": "display_data"
    }
   ],
   "source": [
    "plt.figure(figsize=(8,6))\n",
    "sns.countplot(x = 'is_canceled', hue = 'customer_type', data = eda_hotel)\n",
    "plt.title ('Hubungan Tipe Konsumen dengan jumlah pembatalan', size=15)"
   ]
  },
  {
   "cell_type": "markdown",
   "id": "6d1b40f3",
   "metadata": {},
   "source": [
    "Tipe konsumen Transient Party merupakan Konsumen yang memiliki jumlah pembatalan yang paling tinggi disusul dengan tipe konsumen Transient, walaupun begitu kedua tipe tersebut juga menunjukan pola data yang kurang lebih sama dengan data pelanggan yang tidak melakukan pembatalan,sehingga Tipe konsumen tidak menentukan apakah konsumen melakukan pembatalan pesanan atau tidak."
   ]
  },
  {
   "cell_type": "code",
   "execution_count": 13,
   "id": "59956f1a",
   "metadata": {},
   "outputs": [
    {
     "data": {
      "text/plain": [
       "Text(0.5, 1.0, 'Hubungan Segmen market dengan jumlah pembatalan')"
      ]
     },
     "execution_count": 13,
     "metadata": {},
     "output_type": "execute_result"
    },
    {
     "data": {
      "image/png": "[encoded data removed]",
      "text/plain": [
       "<Figure size 576x432 with 1 Axes>"
      ]
     },
     "metadata": {
      "needs_background": "light"
     },
     "output_type": "display_data"
    }
   ],
   "source": [
    "plt.figure(figsize=(8,6))\n",
    "sns.countplot(x = 'is_canceled', hue = 'market_segment', data = eda_hotel)\n",
    "plt.title ('Hubungan Segmen market dengan jumlah pembatalan', size=15)"
   ]
  },
  {
   "cell_type": "markdown",
   "id": "efeb91a8",
   "metadata": {},
   "source": [
    "Segment market Online TA merupakan Konsumen yang memiliki jumlah pembatalan yang paling tinggi disusul dengan Market Segment Offline TA, walaupun begitu kedua tipe tersebut juga menunjukan pola data yang kurang lebih sama dengan data pelanggan yang tidak melakukan pembatalan,sehingga Market Segmen ini tidak menentukan apakah konsumen melakukan pembatalan pesanan atau tidak. \n",
    "berbeda dengan market segmen Groups yang menunjukan bahwa market segmen ini lebih cenderung melakukan pembatalan."
   ]
  },
  {
   "cell_type": "code",
   "execution_count": 14,
   "id": "90c40f96",
   "metadata": {},
   "outputs": [
    {
     "data": {
      "text/plain": [
       "Text(0.5, 1.0, 'Hubungan Tipe ruangan yang dipesan dengan jumlah pembatalan')"
      ]
     },
     "execution_count": 14,
     "metadata": {},
     "output_type": "execute_result"
    },
    {
     "data": {
      "image/png": "[encoded data removed]",
      "text/plain": [
       "<Figure size 576x432 with 1 Axes>"
      ]
     },
     "metadata": {
      "needs_background": "light"
     },
     "output_type": "display_data"
    }
   ],
   "source": [
    "plt.figure(figsize=(8,6))\n",
    "sns.countplot(x = 'is_canceled', hue = 'reserved_room_type', data = eda_hotel)\n",
    "plt.title ('Hubungan Tipe ruangan yang dipesan dengan jumlah pembatalan', size=15)"
   ]
  },
  {
   "cell_type": "markdown",
   "id": "8cac7a4c",
   "metadata": {},
   "source": [
    "Tipe Ruangan A merupakan Konsumen yang memiliki jumlah pembatalan yang paling tinggi disusul dengan tipe Ruangan D, walaupun begitu semua tipe ruangan tersebut juga menunjukan pola data yang kurang lebih sama dengan data pelanggan yang tidak melakukan pembatalan,sehingga Tipe Ruangan tidak menentukan apakah konsumen melakukan pembatalan pesanan atau tidak."
   ]
  },
  {
   "cell_type": "code",
   "execution_count": 51,
   "id": "d4e19023",
   "metadata": {},
   "outputs": [
    {
     "data": {
      "image/png": "[encoded data removed]",
      "text/plain": [
       "<Figure size 576x432 with 1 Axes>"
      ]
     },
     "metadata": {
      "needs_background": "light"
     },
     "output_type": "display_data"
    }
   ],
   "source": [
    "plt.figure(figsize=(8,6))\n",
    "sns.countplot(x = 'is_canceled', hue = 'total_of_special_requests', data = eda_hotel)\n",
    "plt.title ('Hubungan Jumlah Spesial request yang dipesan dengan jumlah pembatalan', size=15)\n",
    "plt.show()"
   ]
  },
  {
   "cell_type": "markdown",
   "id": "bea42fa3",
   "metadata": {},
   "source": [
    "Konsumen yang tidak melakukan special request memiliki jumlah pembatalan dan tidak melakukan pembatalan yang relatif sama walaupun begitu juga konsumen yang melakukan special request."
   ]
  },
  {
   "cell_type": "code",
   "execution_count": 52,
   "id": "cbc6b547",
   "metadata": {},
   "outputs": [
    {
     "data": {
      "image/png": "[encoded data removed]",
      "text/plain": [
       "<Figure size 576x432 with 1 Axes>"
      ]
     },
     "metadata": {
      "needs_background": "light"
     },
     "output_type": "display_data"
    }
   ],
   "source": [
    "plt.figure(figsize=(8,6))\n",
    "sns.countplot(x = 'is_canceled', hue = 'required_car_parking_spaces', data = eda_hotel)\n",
    "plt.title ('Hubungan Jumlah pesanan space parkir yang dipesan dengan jumlah pembatalan', size=15)\n",
    "plt.show()"
   ]
  },
  {
   "cell_type": "markdown",
   "id": "8877f976",
   "metadata": {},
   "source": [
    "konsumen yang tidak melakukan request space parkir mobil menunjukan tingkat pembatalan dan tidak melakukan pembatalan kamar hotel. hal ini mengindikasikan bahwa konsumen yang tidak melakukan request space parkir mobil tidak memiliki pengaruh untuk melakukan pembatalan pesanan.\n",
    "berbeda dengan konsumen yang melakukan request space parkir mobil cenderung tidak melakukan pembatalan pesanan hotel. hal ini menunjukan konsumen yang melakukan request space parkir memiliki hubungan yang cukup kuat untuk tidak melakukan pembatalan pesanan hotel, yang pembuktian lebih lanjutnya akan kita lakukan pada Feature Importances."
   ]
  },
  {
   "cell_type": "markdown",
   "id": "601839e3",
   "metadata": {},
   "source": [
    "## Preprocessing Scheme"
   ]
  },
  {
   "cell_type": "markdown",
   "id": "860a913f",
   "metadata": {},
   "source": [
    "\n",
    "- Target : is_canceled\n",
    "- OneHotEncoding : deposit_type, customer_type\n",
    "- BinaryEncoder : country, market_segment, reserved_room_type\n",
    "- SimpleImputer Mode : country\n",
    "- passthrough : previous_cancellations, booking_changes, days_in_waiting_list, required_car_parking_spaces , total_of_special_requests"
   ]
  },
  {
   "cell_type": "code",
   "execution_count": 22,
   "id": "7334cb9c",
   "metadata": {},
   "outputs": [
    {
     "data": {
      "text/html": [
       "<div>\n",
       "<style scoped>\n",
       "    .dataframe tbody tr th:only-of-type {\n",
       "        vertical-align: middle;\n",
       "    }\n",
       "\n",
       "    .dataframe tbody tr th {\n",
       "        vertical-align: top;\n",
       "    }\n",
       "\n",
       "    .dataframe thead th {\n",
       "        text-align: right;\n",
       "    }\n",
       "</style>\n",
       "<table border=\"1\" class=\"dataframe\">\n",
       "  <thead>\n",
       "    <tr style=\"text-align: right;\">\n",
       "      <th></th>\n",
       "      <th>country</th>\n",
       "      <th>market_segment</th>\n",
       "      <th>previous_cancellations</th>\n",
       "      <th>booking_changes</th>\n",
       "      <th>deposit_type</th>\n",
       "      <th>days_in_waiting_list</th>\n",
       "      <th>customer_type</th>\n",
       "      <th>reserved_room_type</th>\n",
       "      <th>required_car_parking_spaces</th>\n",
       "      <th>total_of_special_requests</th>\n",
       "      <th>is_canceled</th>\n",
       "    </tr>\n",
       "  </thead>\n",
       "  <tbody>\n",
       "    <tr>\n",
       "      <th>0</th>\n",
       "      <td>IRL</td>\n",
       "      <td>Offline TA/TO</td>\n",
       "      <td>0</td>\n",
       "      <td>0</td>\n",
       "      <td>No Deposit</td>\n",
       "      <td>0</td>\n",
       "      <td>Transient-Party</td>\n",
       "      <td>A</td>\n",
       "      <td>0</td>\n",
       "      <td>0</td>\n",
       "      <td>0</td>\n",
       "    </tr>\n",
       "    <tr>\n",
       "      <th>1</th>\n",
       "      <td>FRA</td>\n",
       "      <td>Online TA</td>\n",
       "      <td>0</td>\n",
       "      <td>0</td>\n",
       "      <td>No Deposit</td>\n",
       "      <td>0</td>\n",
       "      <td>Transient</td>\n",
       "      <td>A</td>\n",
       "      <td>0</td>\n",
       "      <td>2</td>\n",
       "      <td>0</td>\n",
       "    </tr>\n",
       "    <tr>\n",
       "      <th>2</th>\n",
       "      <td>PRT</td>\n",
       "      <td>Online TA</td>\n",
       "      <td>0</td>\n",
       "      <td>1</td>\n",
       "      <td>No Deposit</td>\n",
       "      <td>0</td>\n",
       "      <td>Transient</td>\n",
       "      <td>A</td>\n",
       "      <td>0</td>\n",
       "      <td>2</td>\n",
       "      <td>0</td>\n",
       "    </tr>\n",
       "    <tr>\n",
       "      <th>3</th>\n",
       "      <td>NLD</td>\n",
       "      <td>Online TA</td>\n",
       "      <td>0</td>\n",
       "      <td>0</td>\n",
       "      <td>No Deposit</td>\n",
       "      <td>0</td>\n",
       "      <td>Transient</td>\n",
       "      <td>A</td>\n",
       "      <td>0</td>\n",
       "      <td>1</td>\n",
       "      <td>1</td>\n",
       "    </tr>\n",
       "    <tr>\n",
       "      <th>4</th>\n",
       "      <td>PRT</td>\n",
       "      <td>Online TA</td>\n",
       "      <td>0</td>\n",
       "      <td>2</td>\n",
       "      <td>No Deposit</td>\n",
       "      <td>0</td>\n",
       "      <td>Transient</td>\n",
       "      <td>A</td>\n",
       "      <td>0</td>\n",
       "      <td>2</td>\n",
       "      <td>0</td>\n",
       "    </tr>\n",
       "  </tbody>\n",
       "</table>\n",
       "</div>"
      ],
      "text/plain": [
       "  country market_segment  previous_cancellations  booking_changes  \\\n",
       "0     IRL  Offline TA/TO                       0                0   \n",
       "1     FRA      Online TA                       0                0   \n",
       "2     PRT      Online TA                       0                1   \n",
       "3     NLD      Online TA                       0                0   \n",
       "4     PRT      Online TA                       0                2   \n",
       "\n",
       "  deposit_type  days_in_waiting_list    customer_type reserved_room_type  \\\n",
       "0   No Deposit                     0  Transient-Party                  A   \n",
       "1   No Deposit                     0        Transient                  A   \n",
       "2   No Deposit                     0        Transient                  A   \n",
       "3   No Deposit                     0        Transient                  A   \n",
       "4   No Deposit                     0        Transient                  A   \n",
       "\n",
       "   required_car_parking_spaces  total_of_special_requests  is_canceled  \n",
       "0                            0                          0            0  \n",
       "1                            0                          2            0  \n",
       "2                            0                          2            0  \n",
       "3                            0                          1            1  \n",
       "4                            0                          2            0  "
      ]
     },
     "execution_count": 22,
     "metadata": {},
     "output_type": "execute_result"
    }
   ],
   "source": [
    "df.head()"
   ]
  },
  {
   "cell_type": "markdown",
   "id": "e4a901d1",
   "metadata": {},
   "source": [
    "Sekarang mari kita melakukan fitur encoding untuk fitur2 categorical yang kita miliki.\n",
    "Yang akan kita lakukan adalah :\n",
    "\n",
    "1. Mengubah fitur/kolom `country` menjadi integer 0-161 dengan Binary Encoding, karena fitur ini memiliki unique data yang banyak dan tidak memiliki urutan/tidak ordinal, bila kita menggunakan One Hot Encoding akan terlalu banyak fitur baru yg terbuat, dan kalau kita menggunakan Ordinal/Label Encoding hasilnya dapat kurang cocok/kurang baik. Oleh karena itu kita akan mencoba menggunakan Binary Encoding saja.\n",
    "2. Merubah fitur/kolom `market_segment` menggunakan Binary Encoding, karena fitur ini memiliki unique data yang banyak dan tidak memiliki urutan/tidak ordinal, bila kita menggunakan One Hot Encoding akan terlalu banyak fitur baru yg terbuat, dan kalau kita menggunakan Ordinal/Label Encoding hasilnya dapat kurang cocok/kurang baik. Oleh karena itu kita akan mencoba menggunakan Binary Encoding saja.\n",
    "3. Merubah fitur/kolom `deposit_type` menggunakan One Hot Encoding, karena fitur ini tidak memiliki urutan/tidak ordinal, dan juga jumlah unique datanya hanya sedikit.\n",
    "4. Merubah fitur/kolom `customer_type` menggunakan One Hot Encoding, karena fitur ini tidak memiliki urutan/tidak ordinal, dan juga jumlah unique datanya hanya sedikit.\n",
    "5. Merubah fitur/kolom `reserved_room_type` menggunakan Binary Encoding, karena fitur ini memiliki unique data yang banyak dan tidak memiliki urutan/tidak ordinal, bila kita menggunakan One Hot Encoding akan terlalu banyak fitur baru yg terbuat, dan kalau kita menggunakan Ordinal/Label Encoding hasilnya dapat kurang cocok/kurang baik. Oleh karena itu kita akan mencoba menggunakan Binary Encoding saja."
   ]
  },
  {
   "cell_type": "markdown",
   "id": "6c5e11eb",
   "metadata": {},
   "source": [
    "Sedangkan untuk data yang tidak kita lakukan preprocess seperti 'previous_cancellations', 'booking_changes', 'days_in_waiting_list', 'required_car_parking_spaces' , 'total_of_special_requests' merupakan data numerik yang memiliki range satuan hingga ratusan, data ini dapat kita scaling tapi tidak kita lakukan karena model yang kita gunakan yaitu XGBoost merupakan model yang berbasiskan Tree, Sehingga proses scaling pada data tidak memberikan dampak dalam proses modeling."
   ]
  },
  {
   "cell_type": "code",
   "execution_count": 23,
   "id": "db36fac7",
   "metadata": {},
   "outputs": [],
   "source": [
    "mode_imp = Pipeline([\n",
    "    ('imputer', SimpleImputer(strategy='most_frequent')),\n",
    "    ('binary', BinaryEncoder())\n",
    "])\n",
    "\n",
    "transformer = ColumnTransformer([\n",
    "    ('one hot', OneHotEncoder(drop = 'first'), ['deposit_type', 'customer_type']),\n",
    "    ('mod imp', mode_imp, ['country']),\n",
    "    ('binary enc', BinaryEncoder(), ['market_segment', 'reserved_room_type'])\n",
    "], remainder='passthrough')"
   ]
  },
  {
   "cell_type": "code",
   "execution_count": 24,
   "id": "2320994e",
   "metadata": {},
   "outputs": [],
   "source": [
    "X = df.drop('is_canceled', axis=1)\n",
    "y = df['is_canceled']"
   ]
  },
  {
   "cell_type": "code",
   "execution_count": 25,
   "id": "9b0db2a0",
   "metadata": {},
   "outputs": [],
   "source": [
    "X_train, X_test, y_train, y_test = train_test_split(X,\n",
    "                                                   y,\n",
    "                                                    stratify=y,\n",
    "                                                   test_size=0.2,\n",
    "                                                    random_state=2022)"
   ]
  },
  {
   "cell_type": "markdown",
   "id": "8785eabe",
   "metadata": {},
   "source": [
    "## Modelling & Evaluation"
   ]
  },
  {
   "cell_type": "code",
   "execution_count": 26,
   "id": "d7395e29",
   "metadata": {},
   "outputs": [],
   "source": [
    "logreg = LogisticRegression(random_state = 2022)\n",
    "knn = KNeighborsClassifier()\n",
    "dt = DecisionTreeClassifier (random_state = 2022)\n",
    "rf = RandomForestClassifier(random_state=2022)\n",
    "xgb = XGBClassifier(random_state=2022)\n",
    "lgbm = lgb.LGBMClassifier(random_state=2022)\n",
    "ada = AdaBoostClassifier(random_state=2022)"
   ]
  },
  {
   "cell_type": "code",
   "execution_count": 27,
   "id": "e16dcd5d",
   "metadata": {},
   "outputs": [
    {
     "data": {
      "text/html": [
       "<div>\n",
       "<style scoped>\n",
       "    .dataframe tbody tr th:only-of-type {\n",
       "        vertical-align: middle;\n",
       "    }\n",
       "\n",
       "    .dataframe tbody tr th {\n",
       "        vertical-align: top;\n",
       "    }\n",
       "\n",
       "    .dataframe thead th {\n",
       "        text-align: right;\n",
       "    }\n",
       "</style>\n",
       "<table border=\"1\" class=\"dataframe\">\n",
       "  <thead>\n",
       "    <tr style=\"text-align: right;\">\n",
       "      <th></th>\n",
       "      <th>mean f1</th>\n",
       "      <th>sdev</th>\n",
       "    </tr>\n",
       "    <tr>\n",
       "      <th>model</th>\n",
       "      <th></th>\n",
       "      <th></th>\n",
       "    </tr>\n",
       "  </thead>\n",
       "  <tbody>\n",
       "    <tr>\n",
       "      <th>XGBoost</th>\n",
       "      <td>0.728501</td>\n",
       "      <td>0.005341</td>\n",
       "    </tr>\n",
       "    <tr>\n",
       "      <th>LightGBM</th>\n",
       "      <td>0.727821</td>\n",
       "      <td>0.004826</td>\n",
       "    </tr>\n",
       "    <tr>\n",
       "      <th>Random Forest</th>\n",
       "      <td>0.724804</td>\n",
       "      <td>0.005462</td>\n",
       "    </tr>\n",
       "    <tr>\n",
       "      <th>Decision Tree</th>\n",
       "      <td>0.720450</td>\n",
       "      <td>0.005902</td>\n",
       "    </tr>\n",
       "    <tr>\n",
       "      <th>KNN</th>\n",
       "      <td>0.702167</td>\n",
       "      <td>0.007308</td>\n",
       "    </tr>\n",
       "    <tr>\n",
       "      <th>AdaBoost</th>\n",
       "      <td>0.662251</td>\n",
       "      <td>0.008045</td>\n",
       "    </tr>\n",
       "    <tr>\n",
       "      <th>Logistic Regression</th>\n",
       "      <td>0.650435</td>\n",
       "      <td>0.010272</td>\n",
       "    </tr>\n",
       "  </tbody>\n",
       "</table>\n",
       "</div>"
      ],
      "text/plain": [
       "                      mean f1      sdev\n",
       "model                                  \n",
       "XGBoost              0.728501  0.005341\n",
       "LightGBM             0.727821  0.004826\n",
       "Random Forest        0.724804  0.005462\n",
       "Decision Tree        0.720450  0.005902\n",
       "KNN                  0.702167  0.007308\n",
       "AdaBoost             0.662251  0.008045\n",
       "Logistic Regression  0.650435  0.010272"
      ]
     },
     "execution_count": 27,
     "metadata": {},
     "output_type": "execute_result"
    }
   ],
   "source": [
    "models = [logreg,knn,dt,rf,xgb,lgbm,ada]\n",
    "score=[]\n",
    "rata=[]\n",
    "std=[]\n",
    "\n",
    "for i in models:\n",
    "    skfold=StratifiedKFold(n_splits=5)\n",
    "    estimator=Pipeline([\n",
    "        ('preprocess',transformer),\n",
    "        ('model',i)])\n",
    "    model_cv=cross_val_score(estimator,X_train,y_train,cv=skfold,scoring='f1', n_jobs=-1)\n",
    "    score.append(model_cv)\n",
    "    rata.append(model_cv.mean())\n",
    "    std.append(model_cv.std())\n",
    "    \n",
    "pd.DataFrame({'model':['Logistic Regression', 'KNN', 'Decision Tree', 'Random Forest', 'XGBoost', 'LightGBM', 'AdaBoost'],'mean f1':rata,'sdev':std}).set_index('model').sort_values(by='mean f1',ascending=False)"
   ]
  },
  {
   "cell_type": "markdown",
   "id": "6efc7115",
   "metadata": {},
   "source": [
    "Berdasarkan Modelling ini, model XGBoost merupakan model dengan score Mean F1 Paling Tinggi dan juga nilai standard deviasi yang relatif lebih stabil dari model lainnya."
   ]
  },
  {
   "cell_type": "markdown",
   "id": "599b098f",
   "metadata": {},
   "source": [
    "## Model Benchmarking : Test Data"
   ]
  },
  {
   "cell_type": "code",
   "execution_count": 28,
   "id": "21515c42",
   "metadata": {},
   "outputs": [
    {
     "name": "stdout",
     "output_type": "stream",
     "text": [
      "Logistic Regression \n",
      "               precision    recall  f1-score   support\n",
      "\n",
      "           0       0.78      0.91      0.84     10559\n",
      "           1       0.78      0.57      0.66      6156\n",
      "\n",
      "    accuracy                           0.78     16715\n",
      "   macro avg       0.78      0.74      0.75     16715\n",
      "weighted avg       0.78      0.78      0.77     16715\n",
      "\n",
      "KNN \n",
      "               precision    recall  f1-score   support\n",
      "\n",
      "           0       0.82      0.85      0.84     10559\n",
      "           1       0.73      0.68      0.71      6156\n",
      "\n",
      "    accuracy                           0.79     16715\n",
      "   macro avg       0.78      0.77      0.77     16715\n",
      "weighted avg       0.79      0.79      0.79     16715\n",
      "\n",
      "Decision Tree \n",
      "               precision    recall  f1-score   support\n",
      "\n",
      "           0       0.82      0.88      0.85     10559\n",
      "           1       0.77      0.68      0.72      6156\n",
      "\n",
      "    accuracy                           0.81     16715\n",
      "   macro avg       0.80      0.78      0.79     16715\n",
      "weighted avg       0.80      0.81      0.80     16715\n",
      "\n",
      "Random Forest \n",
      "               precision    recall  f1-score   support\n",
      "\n",
      "           0       0.83      0.89      0.85     10559\n",
      "           1       0.78      0.68      0.72      6156\n",
      "\n",
      "    accuracy                           0.81     16715\n",
      "   macro avg       0.80      0.78      0.79     16715\n",
      "weighted avg       0.81      0.81      0.81     16715\n",
      "\n",
      "XGBoost \n",
      "               precision    recall  f1-score   support\n",
      "\n",
      "           0       0.83      0.88      0.86     10559\n",
      "           1       0.78      0.70      0.74      6156\n",
      "\n",
      "    accuracy                           0.81     16715\n",
      "   macro avg       0.81      0.79      0.80     16715\n",
      "weighted avg       0.81      0.81      0.81     16715\n",
      "\n",
      "LightGBM \n",
      "               precision    recall  f1-score   support\n",
      "\n",
      "           0       0.83      0.88      0.86     10559\n",
      "           1       0.78      0.70      0.73      6156\n",
      "\n",
      "    accuracy                           0.81     16715\n",
      "   macro avg       0.80      0.79      0.80     16715\n",
      "weighted avg       0.81      0.81      0.81     16715\n",
      "\n",
      "AdaBoost \n",
      "               precision    recall  f1-score   support\n",
      "\n",
      "           0       0.78      0.93      0.85     10559\n",
      "           1       0.82      0.56      0.67      6156\n",
      "\n",
      "    accuracy                           0.79     16715\n",
      "   macro avg       0.80      0.74      0.76     16715\n",
      "weighted avg       0.80      0.79      0.78     16715\n",
      "\n"
     ]
    },
    {
     "data": {
      "text/html": [
       "<div>\n",
       "<style scoped>\n",
       "    .dataframe tbody tr th:only-of-type {\n",
       "        vertical-align: middle;\n",
       "    }\n",
       "\n",
       "    .dataframe tbody tr th {\n",
       "        vertical-align: top;\n",
       "    }\n",
       "\n",
       "    .dataframe thead th {\n",
       "        text-align: right;\n",
       "    }\n",
       "</style>\n",
       "<table border=\"1\" class=\"dataframe\">\n",
       "  <thead>\n",
       "    <tr style=\"text-align: right;\">\n",
       "      <th></th>\n",
       "      <th>f1 score</th>\n",
       "    </tr>\n",
       "    <tr>\n",
       "      <th>model</th>\n",
       "      <th></th>\n",
       "    </tr>\n",
       "  </thead>\n",
       "  <tbody>\n",
       "    <tr>\n",
       "      <th>XGBoost</th>\n",
       "      <td>0.735827</td>\n",
       "    </tr>\n",
       "    <tr>\n",
       "      <th>LightGBM</th>\n",
       "      <td>0.734030</td>\n",
       "    </tr>\n",
       "    <tr>\n",
       "      <th>Random Forest</th>\n",
       "      <td>0.724562</td>\n",
       "    </tr>\n",
       "    <tr>\n",
       "      <th>Decision Tree</th>\n",
       "      <td>0.721025</td>\n",
       "    </tr>\n",
       "    <tr>\n",
       "      <th>KNN</th>\n",
       "      <td>0.705607</td>\n",
       "    </tr>\n",
       "    <tr>\n",
       "      <th>AdaBoost</th>\n",
       "      <td>0.665256</td>\n",
       "    </tr>\n",
       "    <tr>\n",
       "      <th>Logistic Regression</th>\n",
       "      <td>0.656006</td>\n",
       "    </tr>\n",
       "  </tbody>\n",
       "</table>\n",
       "</div>"
      ],
      "text/plain": [
       "                     f1 score\n",
       "model                        \n",
       "XGBoost              0.735827\n",
       "LightGBM             0.734030\n",
       "Random Forest        0.724562\n",
       "Decision Tree        0.721025\n",
       "KNN                  0.705607\n",
       "AdaBoost             0.665256\n",
       "Logistic Regression  0.656006"
      ]
     },
     "execution_count": 28,
     "metadata": {},
     "output_type": "execute_result"
    }
   ],
   "source": [
    "models = [logreg,knn,dt,rf,xgb,lgbm, ada]\n",
    "score_f1 = []\n",
    "\n",
    "def y_pred_func(i):\n",
    "    estimator=Pipeline([\n",
    "        ('preprocess',transformer),\n",
    "        ('model',i)])\n",
    "    X_train,X_test\n",
    "    \n",
    "    estimator.fit(X_train,y_train)\n",
    "    return(estimator,estimator.predict(X_test),X_test)\n",
    "\n",
    "for i,j in zip(models, ['Logistic Regression', 'KNN', 'Decision Tree', 'Random Forest', 'XGBoost','LightGBM', 'AdaBoost']):\n",
    "    estimator,y_pred,X_test = y_pred_func(i)\n",
    "    y_predict = estimator.predict(X_test)\n",
    "    score_f1.append(f1_score(y_test,y_predict))\n",
    "    print(j,'\\n', classification_report(y_test,y_pred))\n",
    "    \n",
    "pd.DataFrame({'model':['Logistic Regression', 'KNN', 'Decision Tree', 'Random Forest', 'XGBoost','LightGBM', 'AdaBoost'],\n",
    "             'f1 score':score_f1}).set_index('model').sort_values(by='f1 score',ascending=False)"
   ]
  },
  {
   "cell_type": "markdown",
   "id": "bb6c462d",
   "metadata": {},
   "source": [
    "Terlihat kembali bahwa model XGBoost adalah yang terbaik performanya pada test data.\n",
    "\n",
    "untuk kedepannya proses klasifikasi yang digunakan adalah model XGBoost"
   ]
  },
  {
   "cell_type": "markdown",
   "id": "1a3b64e5",
   "metadata": {},
   "source": [
    "## Handling Imbalance"
   ]
  },
  {
   "cell_type": "code",
   "execution_count": 5,
   "id": "b9c53d6e",
   "metadata": {},
   "outputs": [
    {
     "data": {
      "text/plain": [
       "0    63.172316\n",
       "1    36.827684\n",
       "Name: is_canceled, dtype: float64"
      ]
     },
     "execution_count": 5,
     "metadata": {},
     "output_type": "execute_result"
    }
   ],
   "source": [
    "df['is_canceled'].value_counts()/df.shape[0]*100"
   ]
  },
  {
   "cell_type": "markdown",
   "id": "102fc34b",
   "metadata": {},
   "source": [
    "Proporsi data target menunjukan bahwa data tidak seimbang (Imbalance) sehingga selanjutnya kita akan membandingkan metode resampling oversampling, undersampling dan gabungan dari keduanya untuk mendapat kan hasil metric score yang terbaik."
   ]
  },
  {
   "cell_type": "code",
   "execution_count": 30,
   "id": "edadb863",
   "metadata": {},
   "outputs": [],
   "source": [
    "ros = RandomOverSampler(random_state=2022)\n",
    "rus = RandomUnderSampler(random_state=2022)\n",
    "smote = SMOTE(random_state=2022)\n",
    "smotetomek = SMOTETomek(random_state=2022) "
   ]
  },
  {
   "cell_type": "code",
   "execution_count": 31,
   "id": "de3bde39",
   "metadata": {},
   "outputs": [
    {
     "data": {
      "text/html": [
       "<div>\n",
       "<style scoped>\n",
       "    .dataframe tbody tr th:only-of-type {\n",
       "        vertical-align: middle;\n",
       "    }\n",
       "\n",
       "    .dataframe tbody tr th {\n",
       "        vertical-align: top;\n",
       "    }\n",
       "\n",
       "    .dataframe thead th {\n",
       "        text-align: right;\n",
       "    }\n",
       "</style>\n",
       "<table border=\"1\" class=\"dataframe\">\n",
       "  <thead>\n",
       "    <tr style=\"text-align: right;\">\n",
       "      <th></th>\n",
       "      <th>mean f1</th>\n",
       "      <th>stddev</th>\n",
       "    </tr>\n",
       "    <tr>\n",
       "      <th>resamples</th>\n",
       "      <th></th>\n",
       "      <th></th>\n",
       "    </tr>\n",
       "  </thead>\n",
       "  <tbody>\n",
       "    <tr>\n",
       "      <th>SMOTETomek</th>\n",
       "      <td>0.742630</td>\n",
       "      <td>0.001181</td>\n",
       "    </tr>\n",
       "    <tr>\n",
       "      <th>SMOTE</th>\n",
       "      <td>0.742284</td>\n",
       "      <td>0.001004</td>\n",
       "    </tr>\n",
       "    <tr>\n",
       "      <th>RandomUnderSampler</th>\n",
       "      <td>0.742043</td>\n",
       "      <td>0.002472</td>\n",
       "    </tr>\n",
       "    <tr>\n",
       "      <th>RandomOverSampler</th>\n",
       "      <td>0.741885</td>\n",
       "      <td>0.001998</td>\n",
       "    </tr>\n",
       "  </tbody>\n",
       "</table>\n",
       "</div>"
      ],
      "text/plain": [
       "                     mean f1    stddev\n",
       "resamples                             \n",
       "SMOTETomek          0.742630  0.001181\n",
       "SMOTE               0.742284  0.001004\n",
       "RandomUnderSampler  0.742043  0.002472\n",
       "RandomOverSampler   0.741885  0.001998"
      ]
     },
     "execution_count": 31,
     "metadata": {},
     "output_type": "execute_result"
    }
   ],
   "source": [
    "resamples = [ros,rus, smote,smotetomek]\n",
    "score=[]\n",
    "rata=[]\n",
    "std=[]\n",
    "\n",
    "for i, val in enumerate(resamples):\n",
    "    skfold=StratifiedKFold(n_splits=5)\n",
    "    estimator=Pipeline([\n",
    "        ('preprocess',transformer),\n",
    "        ('resampling', val),\n",
    "        ('model',xgb)])\n",
    "    model_cv=cross_val_score(estimator,X_train,y_train,cv=skfold,scoring='f1', n_jobs=-1)\n",
    "    score.append(model_cv)\n",
    "    rata.append(model_cv.mean())\n",
    "    std.append(model_cv.std())\n",
    "    \n",
    "pd.DataFrame({'resamples':['RandomOverSampler', 'RandomUnderSampler','SMOTE', 'SMOTETomek'],'mean f1':rata,'stddev':std}).set_index('resamples').sort_values(by='mean f1',ascending=False)"
   ]
  },
  {
   "cell_type": "markdown",
   "id": "3ddb00e7",
   "metadata": {},
   "source": [
    "Berdasarkan Perbandingan dari metode Resampling yang digunakan, metode SMOTETomek menunjukan peningkatan Score mean F1 yang cukup signifikan dari nilai awal dan juga menunjukan nilai standard deviasi yang cukup rendah apabila dibandingkan dengan metode lainnya."
   ]
  },
  {
   "cell_type": "markdown",
   "id": "0da2be7d",
   "metadata": {},
   "source": [
    "## Hyperparameter Tuning"
   ]
  },
  {
   "cell_type": "code",
   "execution_count": 32,
   "id": "0c09fec9",
   "metadata": {},
   "outputs": [],
   "source": [
    "X = df.drop('is_canceled', axis=1)\n",
    "y = df['is_canceled']"
   ]
  },
  {
   "cell_type": "code",
   "execution_count": 33,
   "id": "af8398d8",
   "metadata": {},
   "outputs": [],
   "source": [
    "X_train, X_test, y_train, y_test = train_test_split(X,\n",
    "                                                   y,\n",
    "                                                    stratify=y,\n",
    "                                                   test_size=0.2,\n",
    "                                                    random_state=2022)"
   ]
  },
  {
   "cell_type": "code",
   "execution_count": 34,
   "id": "163108b9",
   "metadata": {},
   "outputs": [],
   "source": [
    "estimator = Pipeline([\n",
    "    ('preprocess', transformer),\n",
    "    ('balancing', smotetomek),\n",
    "    ('model', xgb)\n",
    "])"
   ]
  },
  {
   "cell_type": "code",
   "execution_count": 35,
   "id": "542d9101",
   "metadata": {},
   "outputs": [],
   "source": [
    "hyperparam_space = [{\n",
    "    'model__learning_rate' : [0.2,0.3, 0.4, 0.5],\n",
    "    'model__n_estimators' : [50, 100, 150, 200, 250],\n",
    "    'model__max_depth' : [4, 5, 6, 7, 8],\n",
    "    'model__max_leaves' : [0, 1, 2]\n",
    "}]"
   ]
  },
  {
   "cell_type": "markdown",
   "id": "a24d33d2",
   "metadata": {},
   "source": [
    "Default Hyperparameter XGBoost => 'learning_rate' = 0.3, 'n_estimators' = 100, 'max_depth' = 6, 'max_leaves' = 0"
   ]
  },
  {
   "cell_type": "code",
   "execution_count": 36,
   "id": "c6f325f3",
   "metadata": {},
   "outputs": [
    {
     "data": {
      "text/plain": [
       "GridSearchCV(cv=StratifiedKFold(n_splits=5, random_state=2022, shuffle=True),\n",
       "             estimator=Pipeline(steps=[('preprocess',\n",
       "                                        ColumnTransformer(remainder='passthrough',\n",
       "                                                          transformers=[('one '\n",
       "                                                                         'hot',\n",
       "                                                                         OneHotEncoder(drop='first'),\n",
       "                                                                         ['deposit_type',\n",
       "                                                                          'customer_type']),\n",
       "                                                                        ('mod '\n",
       "                                                                         'imp',\n",
       "                                                                         Pipeline(steps=[('imputer',\n",
       "                                                                                          SimpleImputer(strategy='most_frequent')),\n",
       "                                                                                         ('binary',\n",
       "                                                                                          BinaryEncoder()...\n",
       "                                                      max_depth=6, max_leaves=0,\n",
       "                                                      min_child_weight=1,\n",
       "                                                      missing=nan,\n",
       "                                                      monotone_constraints='()',\n",
       "                                                      n_estimators=100,\n",
       "                                                      n_jobs=0,\n",
       "                                                      num_parallel_tree=1,\n",
       "                                                      predictor='auto',\n",
       "                                                      random_state=2022,\n",
       "                                                      reg_alpha=0, reg_lambda=1, ...))]),\n",
       "             n_jobs=-1,\n",
       "             param_grid=[{'model__learning_rate': [0.2, 0.3, 0.4],\n",
       "                          'model__max_depth': [6, 7, 8],\n",
       "                          'model__max_leaves': [0],\n",
       "                          'model__n_estimators': [50, 100, 150]}],\n",
       "             scoring='f1')"
      ]
     },
     "execution_count": 36,
     "metadata": {},
     "output_type": "execute_result"
    }
   ],
   "source": [
    "grid = GridSearchCV(\n",
    "    estimator=estimator, \n",
    "    n_jobs=-1, \n",
    "    param_grid=hyperparam_space, \n",
    "    scoring='f1', \n",
    "    cv=StratifiedKFold(n_splits=5, shuffle = True, random_state =2022))\n",
    "grid.fit(X_train, y_train)"
   ]
  },
  {
   "cell_type": "code",
   "execution_count": 37,
   "id": "7ac1c523",
   "metadata": {},
   "outputs": [
    {
     "name": "stdout",
     "output_type": "stream",
     "text": [
      "0.7430202071744261\n",
      "{'model__learning_rate': 0.4, 'model__max_depth': 6, 'model__max_leaves': 0, 'model__n_estimators': 150}\n"
     ]
    }
   ],
   "source": [
    "print(grid.best_score_)\n",
    "print(grid.best_params_)"
   ]
  },
  {
   "cell_type": "markdown",
   "id": "6788425f",
   "metadata": {},
   "source": [
    "Hyperparameter terbaik XGBoost dari hasil Gridsearch => `learning_rate` = 0.4, `max_depth` = 6, `max_leaves` = 0, `n_estimators` = 100.\n",
    "\n",
    "Untuk hyperparameter `max_leaves` default valuenya tetap yang terbaik, untuk `learning_rate` yang optimal dari gridsearch kali ini adalah 0.4 dari nilai default 0.3, untuk `max_depth` yang optimal adalah 6 dari nilai default 8 dan untuk `n_estimators` yang optimal dari gridsearch kali ini adalah 150 dari nilai default 100."
   ]
  },
  {
   "cell_type": "markdown",
   "id": "152e1b0b",
   "metadata": {},
   "source": [
    "## Perbandingan Score Sebelum dan Sesudah Tuning"
   ]
  },
  {
   "cell_type": "code",
   "execution_count": 38,
   "id": "4b96cb02",
   "metadata": {},
   "outputs": [
    {
     "data": {
      "text/plain": [
       "Pipeline(steps=[('preprocess',\n",
       "                 ColumnTransformer(remainder='passthrough',\n",
       "                                   transformers=[('one hot',\n",
       "                                                  OneHotEncoder(drop='first'),\n",
       "                                                  ['deposit_type',\n",
       "                                                   'customer_type']),\n",
       "                                                 ('mod imp',\n",
       "                                                  Pipeline(steps=[('imputer',\n",
       "                                                                   SimpleImputer(strategy='most_frequent')),\n",
       "                                                                  ('binary',\n",
       "                                                                   BinaryEncoder())]),\n",
       "                                                  ['country']),\n",
       "                                                 ('binary enc', BinaryEncoder(),\n",
       "                                                  ['market_segment',\n",
       "                                                   'reserved_room_type'])]))...\n",
       "                               gamma=0, gpu_id=-1, grow_policy='depthwise',\n",
       "                               importance_type=None, interaction_constraints='',\n",
       "                               learning_rate=0.4, max_bin=256,\n",
       "                               max_cat_to_onehot=4, max_delta_step=0,\n",
       "                               max_depth=6, max_leaves=0, min_child_weight=1,\n",
       "                               missing=nan, monotone_constraints='()',\n",
       "                               n_estimators=150, n_jobs=0, num_parallel_tree=1,\n",
       "                               predictor='auto', random_state=2022, reg_alpha=0,\n",
       "                               reg_lambda=1, ...))])"
      ]
     },
     "execution_count": 38,
     "metadata": {},
     "output_type": "execute_result"
    }
   ],
   "source": [
    "best_model = grid.best_estimator_\n",
    "best_model.fit(X_train, y_train)"
   ]
  },
  {
   "cell_type": "code",
   "execution_count": 39,
   "id": "e129be5f",
   "metadata": {},
   "outputs": [
    {
     "data": {
      "text/plain": [
       "Pipeline(steps=[('preprocess',\n",
       "                 ColumnTransformer(remainder='passthrough',\n",
       "                                   transformers=[('one hot',\n",
       "                                                  OneHotEncoder(drop='first'),\n",
       "                                                  ['deposit_type',\n",
       "                                                   'customer_type']),\n",
       "                                                 ('mod imp',\n",
       "                                                  Pipeline(steps=[('imputer',\n",
       "                                                                   SimpleImputer(strategy='most_frequent')),\n",
       "                                                                  ('binary',\n",
       "                                                                   BinaryEncoder())]),\n",
       "                                                  ['country']),\n",
       "                                                 ('binary enc', BinaryEncoder(),\n",
       "                                                  ['market_segment',\n",
       "                                                   'reserved_room_type'])]))...\n",
       "                               gamma=0, gpu_id=-1, grow_policy='depthwise',\n",
       "                               importance_type=None, interaction_constraints='',\n",
       "                               learning_rate=0.300000012, max_bin=256,\n",
       "                               max_cat_to_onehot=4, max_delta_step=0,\n",
       "                               max_depth=6, max_leaves=0, min_child_weight=1,\n",
       "                               missing=nan, monotone_constraints='()',\n",
       "                               n_estimators=100, n_jobs=0, num_parallel_tree=1,\n",
       "                               predictor='auto', random_state=2022, reg_alpha=0,\n",
       "                               reg_lambda=1, ...))])"
      ]
     },
     "execution_count": 39,
     "metadata": {},
     "output_type": "execute_result"
    }
   ],
   "source": [
    "estimator = Pipeline([\n",
    "    ('preprocess', transformer),\n",
    "    ('balancing', smotetomek),\n",
    "    ('model', xgb)\n",
    "])\n",
    "estimator.fit(X_train, y_train)"
   ]
  },
  {
   "cell_type": "code",
   "execution_count": 40,
   "id": "d46277f9",
   "metadata": {},
   "outputs": [
    {
     "name": "stdout",
     "output_type": "stream",
     "text": [
      "F1 Score default XGBoost 0.7420429025013553\n",
      "F1 Score Tuned XGBoost 0.7442392797192126\n"
     ]
    }
   ],
   "source": [
    "y_pred_default = estimator.predict(X_test)\n",
    "y_pred_tuned = best_model.predict(X_test)\n",
    "\n",
    "f1_default = f1_score(y_test, y_pred_default)\n",
    "f1_tuned = f1_score(y_test, y_pred_tuned)\n",
    "\n",
    "print('F1 Score default XGBoost', f1_default)\n",
    "print('F1 Score Tuned XGBoost', f1_tuned)"
   ]
  },
  {
   "cell_type": "markdown",
   "id": "c5f09e54",
   "metadata": {},
   "source": [
    "Terlihat bahwa model XGBoost setelah kita tuning hyperparameternya memiliki nilai F1 Score yang lebih baik walaupun hanya naik sekitar 2 % saja.\n",
    "\n",
    "Mari kita lihat juga perbandingan classification reportnya"
   ]
  },
  {
   "cell_type": "code",
   "execution_count": 42,
   "id": "816221b5",
   "metadata": {},
   "outputs": [
    {
     "name": "stdout",
     "output_type": "stream",
     "text": [
      "Classification Report Default XGBoost :                precision    recall  f1-score   support\n",
      "\n",
      "           0       0.86      0.81      0.84     10559\n",
      "           1       0.71      0.78      0.74      6156\n",
      "\n",
      "    accuracy                           0.80     16715\n",
      "   macro avg       0.79      0.80      0.79     16715\n",
      "weighted avg       0.81      0.80      0.80     16715\n",
      "\n",
      "Classification Report Tuned XGBoost :                precision    recall  f1-score   support\n",
      "\n",
      "           0       0.87      0.80      0.84     10559\n",
      "           1       0.70      0.79      0.74      6156\n",
      "\n",
      "    accuracy                           0.80     16715\n",
      "   macro avg       0.79      0.80      0.79     16715\n",
      "weighted avg       0.81      0.80      0.80     16715\n",
      "\n"
     ]
    }
   ],
   "source": [
    "report_default =classification_report(y_test,y_pred_default)\n",
    "report_tuned = classification_report(y_test,y_pred_tuned)\n",
    "print('Classification Report Default XGBoost : ', report_default)\n",
    "print('Classification Report Tuned XGBoost : ', report_tuned)"
   ]
  },
  {
   "cell_type": "markdown",
   "id": "1354cfa7",
   "metadata": {},
   "source": [
    "Kembali lagi terlihat bahwa model XGBoost setelah kita tuning hyperparameternya memiliki classification report yang lebih baik walaupun hanya lebih baik sedikit saja. Oleh karena itu kita akan menggunakan model XGBoost yang sudah di tuned sebagai model akhir kita."
   ]
  },
  {
   "cell_type": "markdown",
   "id": "2ccf942a",
   "metadata": {},
   "source": [
    "## Feature Importance"
   ]
  },
  {
   "cell_type": "code",
   "execution_count": 45,
   "id": "008c2367",
   "metadata": {},
   "outputs": [],
   "source": [
    "features = (list(transformer.transformers_[0][1].get_feature_names()) +\n",
    "                transformer.transformers_[1][1][1].get_feature_names() + \n",
    "                transformer.transformers_[2][1].get_feature_names() +\n",
    "           ['previous_cancellations', 'booking_changes', 'days_in_waiting_list', 'required_car_parking_spaces' , 'total_of_special_requests'])"
   ]
  },
  {
   "cell_type": "markdown",
   "id": "04f1d4fc",
   "metadata": {},
   "source": [
    "Berikut fitur/kolom apa saja yang paling penting untuk model XGBoost kita"
   ]
  },
  {
   "cell_type": "code",
   "execution_count": 46,
   "id": "4e63c684",
   "metadata": {},
   "outputs": [
    {
     "data": {
      "image/png": "[encoded data removed]",
      "text/plain": [
       "<Figure size 432x288 with 1 Axes>"
      ]
     },
     "metadata": {
      "needs_background": "light"
     },
     "output_type": "display_data"
    }
   ],
   "source": [
    "coef1 = pd.Series(best_model['model'].feature_importances_, features).sort_values(ascending=False).head(15)\n",
    "coef1.plot(kind='barh', title='Feature Importances')\n",
    "plt.show()"
   ]
  },
  {
   "cell_type": "markdown",
   "id": "8a8d82b0",
   "metadata": {},
   "source": [
    "Terlihat bahwa ternyata untuk model XGBoost kita, fitur/kolom non Refund adalah yang paling penting, kemudian diikuti dengan required_car_parking_spaces, total_of_special_request dan seterusnya.\n",
    "\n",
    "Dari hasil Data Analysis sebelumnya telah terbukti dari Feature Importances ini bahwa Data Non Refund dan Required car parking spaces memiliki hubungan yang kuat untuk melakukan klasifikasi konsumen mana saja yang akan melakukan pembatalan pesanan."
   ]
  },
  {
   "cell_type": "markdown",
   "id": "4140cc65",
   "metadata": {},
   "source": [
    "## Conclusion & Recommendation"
   ]
  },
  {
   "cell_type": "code",
   "execution_count": 48,
   "id": "7c8cfc17",
   "metadata": {},
   "outputs": [
    {
     "name": "stdout",
     "output_type": "stream",
     "text": [
      "Classification Report Tuned XGBoost : \n",
      "               precision    recall  f1-score   support\n",
      "\n",
      "           0       0.87      0.80      0.84     10559\n",
      "           1       0.70      0.79      0.74      6156\n",
      "\n",
      "    accuracy                           0.80     16715\n",
      "   macro avg       0.79      0.80      0.79     16715\n",
      "weighted avg       0.81      0.80      0.80     16715\n",
      "\n"
     ]
    }
   ],
   "source": [
    "print('Classification Report Tuned XGBoost : \\n', report_tuned)"
   ]
  },
  {
   "cell_type": "markdown",
   "id": "82b8d6d4",
   "metadata": {},
   "source": [
    "Berdasarkan hasil classification report dari model kita, kita dapat menyimpulkan/mengambil konklusi bahwa bila seandainya nanti kita menggunakan model kita untuk mengklasifikasikan konsumen yang akan melakukan pembatalan pesanan, maka model kita dapat mengurangi 74,2 % konsumen yang kemungkinan besar membatalkan pesanan hotel, dan model kita dapat mendapatkan 84% konsumen yang memang berniat tidak melakukan pembatalan pesanan. (semua ini berdasarkan F1 Scorenya)\n",
    "\n",
    "Model kita ini memiliki ketepatan prediksi Konsumen yang melakukan pembatalan sebesar 70 % (precisionnya), jadi setiap model kita memprediksi bahwa konsumen akan melakukan pembatalan pesanan hotel, maka kemungkinan tebakannya benar itu sebesar 70% kurang lebih. Maka masih akan ada konsumen yang sebenarnya tidak ingin melakukan pembatalan pesanan tetapi diprediksi sebagai konsumen yang melakukan pembatalan pesanan sekitar 20 % dari keseluruan konsumen yang melakukan pemesanan hotel (berdasarkan recall).\n",
    "\n",
    "Bila seandainya rata-rata biaya hotel permalam diportugal itu 75$ (berdasarkan sumber dari https://championtraveler.com/price/cost-of-a-trip-to-portugal/),\n",
    "dan andaikan jumlah pesanan hotel kita miliki untuk suatu kurun waktu sebanyak 200 orang (dimana andaikan 20 orang melakukan pembatalan, dan 180 orang lagi tidak melakukan pembatalan), maka hitungannya kurang lebih akan seperti ini :\n",
    "\n",
    "Tanpa Model :\n",
    "- Total Omset => 200 x 75 USD = 15000 USD\n",
    "- Total Konsumen yang melakukan pembatalan => 20 orang \n",
    "- Total Konsumen yang tidak melakukan pembatalan => 180 orang \n",
    "- Biaya yang terbuang => 20 x 75 USD = 1500 USD\n",
    "- Jumlah opportunity lost => 1500 USD\n",
    "\n",
    "Dengan Model :\n",
    "- Potensi Penghematan => (16 x 75 USD) + (4 x 75 USD) = 1200 USD + 300 USD = 1500 USD\n",
    "- Total konsumen yang melakukan pembatalan => 16 orang (karena recall 1/yg tertarik itu 79%)\n",
    "- Total konsumen yang tidak melakukan pembatalan => 24 orang (karena recall 1/yg tertarik itu 79%)\n",
    "- Biaya yang terbuang => 4 x 75 USD = 300 USD (berdasarkan recall 0/))\n",
    "- Opportunity yang didapat => 1500 - 300 USD = 1200 USD \n",
    "\n",
    "Berdasarkan contoh hitungan tersebut, terlihat bahwa dengan menggunakan model kita, maka perusahaan tersebut akan menghemat biaya yang cukup besar tanpa mengorbankan tingkat kepercayaan konsumen."
   ]
  },
  {
   "cell_type": "markdown",
   "id": "f14c327f",
   "metadata": {},
   "source": [
    "#### Recommendation"
   ]
  },
  {
   "cell_type": "markdown",
   "id": "02bff98e",
   "metadata": {},
   "source": [
    "Hal-hal yang bisa dilakukan untuk meningkatkan kemungkinan konsumen untuk tidak melakukan pembatasan pesanan dan meningkatkan kemampuan model, yaitu :\n",
    "\n",
    "- Menyediakan dan mempromosikan ekstra parking space bagi para konsumen hotel  sehingga menarik para konsumen yang berpeluang tidak melakukan pembatalan pesanan hotel.\n",
    "- Menghapus pesanan hotel dengan deposit_type Non Refundable\n",
    "- Menggencarkan Promosi untuk Market Segment Online TA\n",
    "- Menambahkan promosi dan fitur2 baru yang kemungkinan bisa berhubungan dengan special request untuk para konsumen.\n"
   ]
  },
  {
   "cell_type": "code",
   "execution_count": null,
   "id": "5c4e9220",
   "metadata": {},
   "outputs": [],
   "source": [
    "filename = 'Model Final.sav'\n",
    "pickle.dump(grid_search.best_estimator_,open(filename,'wb'))"
   ]
  }
 ],
 "metadata": {
  "kernelspec": {
   "display_name": "Python 3",
   "language": "python",
   "name": "python3"
  },
  "language_info": {
   "codemirror_mode": {
    "name": "ipython",
    "version": 3
   },
   "file_extension": ".py",
   "mimetype": "text/x-python",
   "name": "python",
   "nbconvert_exporter": "python",
   "pygments_lexer": "ipython3",
   "version": "3.8.8"
  }
 },
 "nbformat": 4,
 "nbformat_minor": 5
}
